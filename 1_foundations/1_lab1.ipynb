{
 "cells": [
  {
   "cell_type": "markdown",
   "metadata": {},
   "source": [
    "# Welcome to the start of your adventure in Agentic AI"
   ]
  },
  {
   "cell_type": "markdown",
   "metadata": {},
   "source": [
    "<table style=\"margin: 0; text-align: left; width:100%\">\n",
    "    <tr>\n",
    "        <td style=\"width: 150px; height: 150px; vertical-align: middle;\">\n",
    "            <img src=\"../assets/stop.png\" width=\"150\" height=\"150\" style=\"display: block;\" />\n",
    "        </td>\n",
    "        <td>\n",
    "            <h2 style=\"color:#ff7800;\">Are you ready for action??</h2>\n",
    "            <span style=\"color:#ff7800;\">Have you completed all the setup steps in the <a href=\"../setup/\">setup</a> folder?<br/>\n",
    "            Have you checked out the guides in the <a href=\"../guides/01_intro.ipynb\">guides</a> folder?<br/>\n",
    "            Well in that case, you're ready!!\n",
    "            </span>\n",
    "        </td>\n",
    "    </tr>\n",
    "</table>"
   ]
  },
  {
   "cell_type": "markdown",
   "metadata": {},
   "source": [
    "<table style=\"margin: 0; text-align: left; width:100%\">\n",
    "    <tr>\n",
    "        <td style=\"width: 150px; height: 150px; vertical-align: middle;\">\n",
    "            <img src=\"../assets/tools.png\" width=\"150\" height=\"150\" style=\"display: block;\" />\n",
    "        </td>\n",
    "        <td>\n",
    "            <h2 style=\"color:#00bfff;\">This code is a live resource - keep an eye out for my updates</h2>\n",
    "            <span style=\"color:#00bfff;\">I push updates regularly. As people ask questions or have problems, I add more examples and improve explanations. As a result, the code below might not be identical to the videos, as I've added more steps and better comments. Consider this like an interactive book that accompanies the lectures.<br/><br/>\n",
    "            I try to send emails regularly with important updates related to the course. You can find this in the 'Announcements' section of Udemy in the left sidebar. You can also choose to receive my emails via your Notification Settings in Udemy. I'm respectful of your inbox and always try to add value with my emails!\n",
    "            </span>\n",
    "        </td>\n",
    "    </tr>\n",
    "</table>"
   ]
  },
  {
   "cell_type": "markdown",
   "metadata": {},
   "source": [
    "### And please do remember to contact me if I can help\n",
    "\n",
    "And I love to connect: https://www.linkedin.com/in/eddonner/\n",
    "\n",
    "\n",
    "### New to Notebooks like this one? Head over to the guides folder!\n",
    "\n",
    "Just to check you've already added the Python and Jupyter extensions to Cursor, if not already installed:\n",
    "- Open extensions (View >> extensions)\n",
    "- Search for python, and when the results show, click on the ms-python one, and Install it if not already installed\n",
    "- Search for jupyter, and when the results show, click on the Microsoft one, and Install it if not already installed  \n",
    "Then View >> Explorer to bring back the File Explorer.\n",
    "\n",
    "And then:\n",
    "1. Click where it says \"Select Kernel\" near the top right, and select the option called `.venv (Python 3.12.9)` or similar, which should be the first choice or the most prominent choice. You may need to choose \"Python Environments\" first.\n",
    "2. Click in each \"cell\" below, starting with the cell immediately below this text, and press Shift+Enter to run\n",
    "3. Enjoy!\n",
    "\n",
    "After you click \"Select Kernel\", if there is no option like `.venv (Python 3.12.9)` then please do the following:  \n",
    "1. On Mac: From the Cursor menu, choose Settings >> VS Code Settings (NOTE: be sure to select `VSCode Settings` not `Cursor Settings`);  \n",
    "On Windows PC: From the File menu, choose Preferences >> VS Code Settings(NOTE: be sure to select `VSCode Settings` not `Cursor Settings`)  \n",
    "2. In the Settings search bar, type \"venv\"  \n",
    "3. In the field \"Path to folder with a list of Virtual Environments\" put the path to the project root, like C:\\Users\\username\\projects\\agents (on a Windows PC) or /Users/username/projects/agents (on Mac or Linux).  \n",
    "And then try again.\n",
    "\n",
    "Having problems with missing Python versions in that list? Have you ever used Anaconda before? It might be interferring. Quit Cursor, bring up a new command line, and make sure that your Anaconda environment is deactivated:    \n",
    "`conda deactivate`  \n",
    "And if you still have any problems with conda and python versions, it's possible that you will need to run this too:  \n",
    "`conda config --set auto_activate_base false`  \n",
    "and then from within the Agents directory, you should be able to run `uv python list` and see the Python 3.12 version."
   ]
  },
  {
   "cell_type": "code",
   "execution_count": 1,
   "metadata": {},
   "outputs": [],
   "source": [
    "# First let's do an import\n",
    "from dotenv import load_dotenv\n"
   ]
  },
  {
   "cell_type": "code",
   "execution_count": 3,
   "metadata": {},
   "outputs": [
    {
     "data": {
      "text/plain": [
       "True"
      ]
     },
     "execution_count": 3,
     "metadata": {},
     "output_type": "execute_result"
    }
   ],
   "source": [
    "# Next it's time to load the API keys into environment variables\n",
    "\n",
    "load_dotenv(override=True)"
   ]
  },
  {
   "cell_type": "code",
   "execution_count": 4,
   "metadata": {},
   "outputs": [
    {
     "name": "stdout",
     "output_type": "stream",
     "text": [
      "GROQ API Key exists and begins gsk_TaTZ\n"
     ]
    }
   ],
   "source": [
    "# Check the keys\n",
    "import os\n",
    "groq_api_key = os.getenv('GROQ_API_KEY')\n",
    "\n",
    "if groq_api_key:\n",
    "    print(f\"GROQ API Key exists and begins {groq_api_key[:8]}\")\n",
    "else:\n",
    "    print(\"GROQ API Key not set\")\n",
    "    \n"
   ]
  },
  {
   "cell_type": "code",
   "execution_count": 5,
   "metadata": {},
   "outputs": [],
   "source": [
    "# And now - the all important import statement\n",
    "# If you get an import error - head over to troubleshooting guide\n",
    "\n",
    "from groq import Groq"
   ]
  },
  {
   "cell_type": "code",
   "execution_count": 6,
   "metadata": {},
   "outputs": [],
   "source": [
    "# Create a Groq instance\n",
    "groq = Groq()"
   ]
  },
  {
   "cell_type": "code",
   "execution_count": 6,
   "metadata": {},
   "outputs": [],
   "source": [
    "# Create a list of messages in the familiar OpenAI format\n",
    "\n",
    "messages = [{\"role\": \"user\", \"content\": \"What is 2+2?\"}]"
   ]
  },
  {
   "cell_type": "code",
   "execution_count": 7,
   "metadata": {},
   "outputs": [
    {
     "name": "stdout",
     "output_type": "stream",
     "text": [
      "2 + 2 = 4.\n"
     ]
    }
   ],
   "source": [
    "# And now call it! Any problems, head to the troubleshooting guide\n",
    "# This uses GPT 4.1 nano, the incredibly cheap model\n",
    "\n",
    "response = groq.chat.completions.create(model='llama-3.3-70b-versatile', messages=messages)\n",
    "print(response.choices[0].message.content)\n"
   ]
  },
  {
   "cell_type": "code",
   "execution_count": 8,
   "metadata": {},
   "outputs": [],
   "source": [
    "# And now - let's ask for a question:\n",
    "\n",
    "question = \"Please propose a hard, challenging question to assess someone's IQ. Respond only with the question.\"\n",
    "messages = [{\"role\": \"user\", \"content\": question}]\n"
   ]
  },
  {
   "cell_type": "code",
   "execution_count": 13,
   "metadata": {},
   "outputs": [
    {
     "name": "stdout",
     "output_type": "stream",
     "text": [
      "A snail is at the bottom of a 20-foot well. Each day, it climbs up 3 feet, but at night, it slips back 2 feet. How many days will it take for the snail to reach the top of the well, and on which day will it not slip back at night because it has reached the top?\n"
     ]
    }
   ],
   "source": [
    "# ask it - this uses GPT 4.1 mini, still cheap but more powerful than nano\n",
    "\n",
    "# ask it\n",
    "response = groq.chat.completions.create(\n",
    "    model=\"llama-3.3-70b-versatile\",\n",
    "    messages=messages\n",
    ")\n",
    "\n",
    "question = response.choices[0].message.content\n",
    "\n",
    "print(question)\n"
   ]
  },
  {
   "cell_type": "code",
   "execution_count": 14,
   "metadata": {},
   "outputs": [],
   "source": [
    "# form a new messages list\n",
    "messages = [{\"role\": \"user\", \"content\": question}]\n"
   ]
  },
  {
   "cell_type": "code",
   "execution_count": 15,
   "metadata": {},
   "outputs": [
    {
     "name": "stdout",
     "output_type": "stream",
     "text": [
      "To find out how many days it will take for the snail to reach the top, we can calculate the net progress the snail makes each day and then determine how many days it will take to climb 20 feet.\n",
      "\n",
      "Each day, the snail climbs 3 feet but slips back 2 feet at night, resulting in a net gain of 1 foot per day.\n",
      "\n",
      "On the 18th day, the snail will climb 3 feet, reaching a total of 20 feet (18 days * 1 foot/day + 2 feet on the last day, since it starts from 18 feet), but since it climbs 3 feet during the day and reaches the top, it won't slip back at night.\n",
      "\n",
      "So, it will take the snail 18 days to reach the top of the 20-foot well. On the 18th day, it won't slip back because it has reached the top.\n"
     ]
    }
   ],
   "source": [
    "# Ask it again\n",
    "\n",
    "response = groq.chat.completions.create(\n",
    "    model=\"llama-3.3-70b-versatile\",\n",
    "    messages=messages\n",
    ")\n",
    "\n",
    "answer = response.choices[0].message.content\n",
    "print(answer)\n",
    "\n"
   ]
  },
  {
   "cell_type": "code",
   "execution_count": null,
   "metadata": {},
   "outputs": [],
   "source": []
  },
  {
   "cell_type": "code",
   "execution_count": 16,
   "metadata": {},
   "outputs": [
    {
     "data": {
      "text/markdown": [
       "To find out how many days it will take for the snail to reach the top, we can calculate the net progress the snail makes each day and then determine how many days it will take to climb 20 feet.\n",
       "\n",
       "Each day, the snail climbs 3 feet but slips back 2 feet at night, resulting in a net gain of 1 foot per day.\n",
       "\n",
       "On the 18th day, the snail will climb 3 feet, reaching a total of 20 feet (18 days * 1 foot/day + 2 feet on the last day, since it starts from 18 feet), but since it climbs 3 feet during the day and reaches the top, it won't slip back at night.\n",
       "\n",
       "So, it will take the snail 18 days to reach the top of the 20-foot well. On the 18th day, it won't slip back because it has reached the top."
      ],
      "text/plain": [
       "<IPython.core.display.Markdown object>"
      ]
     },
     "metadata": {},
     "output_type": "display_data"
    }
   ],
   "source": [
    "from IPython.display import Markdown, display\n",
    "\n",
    "display(Markdown(answer))\n",
    "\n"
   ]
  },
  {
   "cell_type": "markdown",
   "metadata": {},
   "source": [
    "# Congratulations!\n",
    "\n",
    "That was a small, simple step in the direction of Agentic AI, with your new environment!\n",
    "\n",
    "Next time things get more interesting..."
   ]
  },
  {
   "cell_type": "markdown",
   "metadata": {},
   "source": [
    "<table style=\"margin: 0; text-align: left; width:100%\">\n",
    "    <tr>\n",
    "        <td style=\"width: 150px; height: 150px; vertical-align: middle;\">\n",
    "            <img src=\"../assets/exercise.png\" width=\"150\" height=\"150\" style=\"display: block;\" />\n",
    "        </td>\n",
    "        <td>\n",
    "            <h2 style=\"color:#ff7800;\">Exercise</h2>\n",
    "            <span style=\"color:#ff7800;\">Now try this commercial application:<br/>\n",
    "            First ask the LLM to pick a business area that might be worth exploring for an Agentic AI opportunity.<br/>\n",
    "            Then ask the LLM to present a pain-point in that industry - something challenging that might be ripe for an Agentic solution.<br/>\n",
    "            Finally have 3 third LLM call propose the Agentic AI solution.\n",
    "            </span>\n",
    "        </td>\n",
    "    </tr>\n",
    "</table>"
   ]
  },
  {
   "cell_type": "code",
   "execution_count": 7,
   "metadata": {},
   "outputs": [],
   "source": [
    "messages = [{'role':'user','content':\"give me a business area related to ecommerce that might be worth exploring for a agentic opportunity.\"}]\n",
    "# And repeat!"
   ]
  },
  {
   "cell_type": "code",
   "execution_count": 8,
   "metadata": {},
   "outputs": [
    {
     "name": "stdout",
     "output_type": "stream",
     "text": [
      "One business area related to ecommerce that might be worth exploring for an agency opportunity is:\n",
      "\n",
      "**Ecommerce Optimization and Conversion Rate Improvement**\n",
      "\n",
      "Many ecommerce businesses struggle to optimize their online stores for maximum conversions, leading to lost sales and revenue. An agency specializing in ecommerce optimization could help these businesses improve their website's user experience, streamline checkout processes, and increase overall conversions.\n",
      "\n",
      "Some potential services offered by such an agency could include:\n",
      "\n",
      "1. **Website audits and analysis**: Identifying areas of improvement in the client's ecommerce site, such as page loading speed, mobile responsiveness, and user journey mapping.\n",
      "2. **Conversion rate optimization (CRO)**: Implementing data-driven strategies to increase conversions, such as A/B testing, heat mapping, and user feedback analysis.\n",
      "3. **User experience (UX) design**: Enhancing the overall shopping experience through intuitive navigation, clear product information, and seamless checkout processes.\n",
      "4. **Ecommerce platform optimization**: Expertise in popular ecommerce platforms like Shopify, Magento, or WooCommerce, to ensure clients are getting the most out of their platform.\n",
      "5. **Personalization and recommendation engines**: Implementing AI-powered solutions to offer personalized product recommendations, improving customer engagement and average order value.\n",
      "6. **Analytics and performance tracking**: Setting up and monitoring key performance indicators (KPIs) to measure the effectiveness of optimization efforts and inform data-driven decisions.\n",
      "\n",
      "The benefits of exploring this opportunity include:\n",
      "\n",
      "* **Growing demand**: Ecommerce continues to grow, and businesses are looking for ways to improve their online sales and revenue.\n",
      "* **Competitive advantage**: By specializing in ecommerce optimization, an agency can differentiate itself from generalist digital marketing agencies.\n",
      "* **Measurable results**: Ecommerce optimization efforts can be tracked and measured, providing clear ROI for clients and demonstrating the agency's value.\n",
      "\n",
      "To get started, an agency could focus on a specific niche, such as:\n",
      "\n",
      "* **Small to medium-sized businesses (SMBs)**: Helping SMBs compete with larger enterprises in the ecommerce space.\n",
      "* **Specific industries**: Focusing on industries like fashion, beauty, or food, where ecommerce optimization can have a significant impact.\n",
      "* **Ecommerce platforms**: Specializing in optimizing stores built on specific platforms, like Shopify or Magento.\n",
      "\n",
      "By exploring this opportunity, an agency can help ecommerce businesses improve their online sales, revenue, and customer satisfaction, while establishing itself as a trusted expert in the field.\n"
     ]
    }
   ],
   "source": [
    "\n",
    "response = groq.chat.completions.create(\n",
    "    model=\"llama-3.3-70b-versatile\",\n",
    "    messages=messages\n",
    ")\n",
    "\n",
    "answer = response.choices[0].message.content\n",
    "print(answer)"
   ]
  },
  {
   "cell_type": "markdown",
   "metadata": {},
   "source": []
  },
  {
   "cell_type": "code",
   "execution_count": 12,
   "metadata": {},
   "outputs": [],
   "source": [
    "messages = [{\"role\": \"user\", \"content\": answer + \"present a pain-point in that industry - something challenging that might be ripe for an agentic solutions.\"}]\n"
   ]
  },
  {
   "cell_type": "code",
   "execution_count": 13,
   "metadata": {},
   "outputs": [
    {
     "name": "stdout",
     "output_type": "stream",
     "text": [
      "One business area related to ecommerce that might be worth exploring for an agency opportunity is:\n",
      "\n",
      "**Ecommerce Optimization and Conversion Rate Improvement**\n",
      "\n",
      "Many ecommerce businesses struggle to optimize their online stores for maximum conversions, leading to lost sales and revenue. An agency specializing in ecommerce optimization could help these businesses improve their website's user experience, streamline checkout processes, and increase overall conversions.\n",
      "\n",
      "Some potential services offered by such an agency could include:\n",
      "\n",
      "1. **Website audits and analysis**: Identifying areas of improvement in the client's ecommerce site, such as page loading speed, mobile responsiveness, and user journey mapping.\n",
      "2. **Conversion rate optimization (CRO)**: Implementing data-driven strategies to increase conversions, such as A/B testing, heat mapping, and user feedback analysis.\n",
      "3. **User experience (UX) design**: Enhancing the overall shopping experience through intuitive navigation, clear product information, and seamless checkout processes.\n",
      "4. **Ecommerce platform optimization**: Expertise in popular ecommerce platforms like Shopify, Magento, or WooCommerce, to ensure clients are getting the most out of their platform.\n",
      "5. **Personalization and recommendation engines**: Implementing AI-powered solutions to offer personalized product recommendations, improving customer engagement and average order value.\n",
      "6. **Analytics and performance tracking**: Setting up and monitoring key performance indicators (KPIs) to measure the effectiveness of optimization efforts and inform data-driven decisions.\n",
      "\n",
      "The benefits of exploring this opportunity include:\n",
      "\n",
      "* **Growing demand**: Ecommerce continues to grow, and businesses are looking for ways to improve their online sales and revenue.\n",
      "* **Competitive advantage**: By specializing in ecommerce optimization, an agency can differentiate itself from generalist digital marketing agencies.\n",
      "* **Measurable results**: Ecommerce optimization efforts can be tracked and measured, providing clear ROI for clients and demonstrating the agency's value.\n",
      "\n",
      "To get started, an agency could focus on a specific niche, such as:\n",
      "\n",
      "* **Small to medium-sized businesses (SMBs)**: Helping SMBs compete with larger enterprises in the ecommerce space.\n",
      "* **Specific industries**: Focusing on industries like fashion, beauty, or food, where ecommerce optimization can have a significant impact.\n",
      "* **Ecommerce platforms**: Specializing in optimizing stores built on specific platforms, like Shopify or Magento.\n",
      "\n",
      "By exploring this opportunity, an agency can help ecommerce businesses improve their online sales, revenue, and customer satisfaction, while establishing itself as a trusted expert in the field.\n"
     ]
    }
   ],
   "source": [
    "response = groq.chat.completions.create(\n",
    "    model=\"llama-3.3-70b-versatile\",\n",
    "    messages= messages\n",
    ")\n",
    "\n",
    "question = response.choices[0].message.content\n",
    "print(answer)"
   ]
  },
  {
   "cell_type": "code",
   "execution_count": 14,
   "metadata": {},
   "outputs": [
    {
     "data": {
      "text/markdown": [
       "One business area related to ecommerce that might be worth exploring for an agency opportunity is:\n",
       "\n",
       "**Ecommerce Optimization and Conversion Rate Improvement**\n",
       "\n",
       "Many ecommerce businesses struggle to optimize their online stores for maximum conversions, leading to lost sales and revenue. An agency specializing in ecommerce optimization could help these businesses improve their website's user experience, streamline checkout processes, and increase overall conversions.\n",
       "\n",
       "Some potential services offered by such an agency could include:\n",
       "\n",
       "1. **Website audits and analysis**: Identifying areas of improvement in the client's ecommerce site, such as page loading speed, mobile responsiveness, and user journey mapping.\n",
       "2. **Conversion rate optimization (CRO)**: Implementing data-driven strategies to increase conversions, such as A/B testing, heat mapping, and user feedback analysis.\n",
       "3. **User experience (UX) design**: Enhancing the overall shopping experience through intuitive navigation, clear product information, and seamless checkout processes.\n",
       "4. **Ecommerce platform optimization**: Expertise in popular ecommerce platforms like Shopify, Magento, or WooCommerce, to ensure clients are getting the most out of their platform.\n",
       "5. **Personalization and recommendation engines**: Implementing AI-powered solutions to offer personalized product recommendations, improving customer engagement and average order value.\n",
       "6. **Analytics and performance tracking**: Setting up and monitoring key performance indicators (KPIs) to measure the effectiveness of optimization efforts and inform data-driven decisions.\n",
       "\n",
       "The benefits of exploring this opportunity include:\n",
       "\n",
       "* **Growing demand**: Ecommerce continues to grow, and businesses are looking for ways to improve their online sales and revenue.\n",
       "* **Competitive advantage**: By specializing in ecommerce optimization, an agency can differentiate itself from generalist digital marketing agencies.\n",
       "* **Measurable results**: Ecommerce optimization efforts can be tracked and measured, providing clear ROI for clients and demonstrating the agency's value.\n",
       "\n",
       "To get started, an agency could focus on a specific niche, such as:\n",
       "\n",
       "* **Small to medium-sized businesses (SMBs)**: Helping SMBs compete with larger enterprises in the ecommerce space.\n",
       "* **Specific industries**: Focusing on industries like fashion, beauty, or food, where ecommerce optimization can have a significant impact.\n",
       "* **Ecommerce platforms**: Specializing in optimizing stores built on specific platforms, like Shopify or Magento.\n",
       "\n",
       "By exploring this opportunity, an agency can help ecommerce businesses improve their online sales, revenue, and customer satisfaction, while establishing itself as a trusted expert in the field."
      ],
      "text/plain": [
       "<IPython.core.display.Markdown object>"
      ]
     },
     "metadata": {},
     "output_type": "display_data"
    }
   ],
   "source": [
    "from IPython.display import Markdown, display\n",
    "\n",
    "display(Markdown(answer))\n"
   ]
  },
  {
   "cell_type": "code",
   "execution_count": null,
   "metadata": {},
   "outputs": [],
   "source": []
  }
 ],
 "metadata": {
  "kernelspec": {
   "display_name": ".venv",
   "language": "python",
   "name": "python3"
  },
  "language_info": {
   "codemirror_mode": {
    "name": "ipython",
    "version": 3
   },
   "file_extension": ".py",
   "mimetype": "text/x-python",
   "name": "python",
   "nbconvert_exporter": "python",
   "pygments_lexer": "ipython3",
   "version": "3.12.11"
  }
 },
 "nbformat": 4,
 "nbformat_minor": 2
}
