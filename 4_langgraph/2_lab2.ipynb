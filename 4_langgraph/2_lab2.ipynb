{
 "cells": [
  {
   "cell_type": "markdown",
   "metadata": {},
   "source": [
    "### And welcome to Week 4, Day 3 - more LangGraph.."
   ]
  },
  {
   "cell_type": "code",
   "execution_count": 2,
   "metadata": {},
   "outputs": [],
   "source": [
    "from typing import Annotated\n",
    "from langgraph.graph import StateGraph, START, END\n",
    "from langgraph.graph.message import add_messages\n",
    "from dotenv import load_dotenv\n",
    "from IPython.display import Image, display\n",
    "import gradio as gr\n",
    "from langgraph.prebuilt import ToolNode, tools_condition\n",
    "import requests\n",
    "import os\n",
    "from langchain_openai import ChatOpenAI\n",
    "from langchain_ollama import ChatOllama\n",
    "from typing import TypedDict\n"
   ]
  },
  {
   "cell_type": "code",
   "execution_count": 3,
   "metadata": {},
   "outputs": [
    {
     "data": {
      "text/plain": [
       "True"
      ]
     },
     "execution_count": 3,
     "metadata": {},
     "output_type": "execute_result"
    }
   ],
   "source": [
    "# Our favorite first step! Crew was doing this for us, by the way.\n",
    "load_dotenv(override=True)\n"
   ]
  },
  {
   "cell_type": "markdown",
   "metadata": {},
   "source": [
    "### First, let's go set up LangSmith!\n",
    "\n",
    "https://langsmith.com"
   ]
  },
  {
   "cell_type": "markdown",
   "metadata": {},
   "source": [
    "### Next, here is a useful function in LangChain community:"
   ]
  },
  {
   "cell_type": "code",
   "execution_count": 4,
   "metadata": {},
   "outputs": [
    {
     "data": {
      "text/plain": [
       "'Paris is the capital and largest city of France, with an estimated population of 2,048,472 in January 2025 in an area of more than 105 km2 (41 sq mi). Paris is the capital and most populous city of France. Situated on the Seine River, in the north of the country, it is in the centre of the Île-de-France ... Paris is the capital of France, the largest country of Europe with 550 000 km2 (65 millions inhabitants). Paris has 2.234 million inhabitants end 2011. The capital of France has been Paris since its liberation in 1944. Paris, city and capital of France, located along the Seine River, in the north-central part of the country. Paris is one of the world\\'s most important and ... Paris is the city of romance par excellence, the fashion capital and the best example of French art de vivre. Exploring Paris is an essential rite of passage ... Paris, the capital of France, is often referred to as the \"City of Light\" and is renowned for its art, culture, and history. It is home to ... Paris Capital City Of France In 4K Ultra HD Video | Paris, France Capital And Largest City | Paris Is A Major European City And A Global ... Paris became capital of France because France evolved from a federation of counties to a kingdom, where the king was living a Paris. The ... The capital and by far the most important city of France is Paris, one of the world\\'s preeminent cultural and commercial centres.'"
      ]
     },
     "execution_count": 4,
     "metadata": {},
     "output_type": "execute_result"
    }
   ],
   "source": [
    "from langchain_community.utilities import GoogleSerperAPIWrapper\n",
    "\n",
    "serper = GoogleSerperAPIWrapper()\n",
    "serper.run(\"What is the capital of France?\")"
   ]
  },
  {
   "cell_type": "markdown",
   "metadata": {},
   "source": [
    "### Now here is a LangChain wrapper class for converting functions into Tools"
   ]
  },
  {
   "cell_type": "code",
   "execution_count": 5,
   "metadata": {},
   "outputs": [],
   "source": [
    "from langchain.agents import Tool\n",
    "\n",
    "tool_search =Tool(\n",
    "        name=\"search\",\n",
    "        func=serper.run,\n",
    "        description=\"Useful for when you need more information from an online search\"\n",
    "    )\n",
    "\n"
   ]
  },
  {
   "cell_type": "markdown",
   "metadata": {},
   "source": [
    "### Now we can try out the tool the langchain way"
   ]
  },
  {
   "cell_type": "code",
   "execution_count": 6,
   "metadata": {},
   "outputs": [
    {
     "data": {
      "text/plain": [
       "'Paris is the capital and most populous city of France. Situated on the Seine River, in the north of the country, it is in the centre of the Île-de-France ... Paris is the capital and largest city of France, with an estimated population of 2,048,472 in January 2025 in an area of more than 105 km2 (41 sq mi). Paris is the capital of France, the largest country of Europe with 550 000 km2 (65 millions inhabitants). Paris has 2.234 million inhabitants end 2011. The capital of France has been Paris since its liberation in 1944. Paris, city and capital of France, located along the Seine River, in the north-central part of the country. Paris is one of the world\\'s most important and ... Paris is the city of romance par excellence, the fashion capital and the best example of French art de vivre. Exploring Paris is an essential rite of passage ... Paris, the capital of France, is often referred to as the \"City of Light\" and is renowned for its art, culture, and history. It is home to ... Paris Capital City Of France In 4K Ultra HD Video | Paris, France Capital And Largest City | Paris Is A Major European City And A Global ... Paris became capital of France because France evolved from a federation of counties to a kingdom, where the king was living a Paris. The ... The capital and by far the most important city of France is Paris, one of the world\\'s preeminent cultural and commercial centres.'"
      ]
     },
     "execution_count": 6,
     "metadata": {},
     "output_type": "execute_result"
    }
   ],
   "source": [
    "tool_search.invoke(\"What is the capital of France?\")"
   ]
  },
  {
   "cell_type": "markdown",
   "metadata": {},
   "source": [
    "### And now let's write a tool ourselves\n",
    "\n",
    "We'll pick a familiar one"
   ]
  },
  {
   "cell_type": "code",
   "execution_count": 7,
   "metadata": {},
   "outputs": [],
   "source": [
    "pushover_token = os.getenv(\"PUSHOVER_TOKEN\")\n",
    "pushover_user = os.getenv(\"PUSHOVER_USER\")\n",
    "pushover_url = \"https://api.pushover.net/1/messages.json\"\n",
    "\n",
    "def push(text: str):\n",
    "    \"\"\"Send a push notification to the user\"\"\"\n",
    "    requests.post(pushover_url, data = {\"token\": pushover_token, \"user\": pushover_user, \"message\": text})"
   ]
  },
  {
   "cell_type": "code",
   "execution_count": 8,
   "metadata": {},
   "outputs": [],
   "source": [
    "tool_push = Tool(\n",
    "        name=\"send_push_notification\",\n",
    "        func=push,\n",
    "        description=\"useful for when you want to send a push notification\"\n",
    "    )\n",
    "\n",
    "tool_push.invoke(\"Hello, me\")"
   ]
  },
  {
   "cell_type": "markdown",
   "metadata": {},
   "source": [
    "### Back to the Graph from yesterday\n",
    "\n",
    "One small change - using TypedDict instead of BaseModel for the State object\n",
    "\n",
    "When we implement tools, we always need to make 2 changes to the code:\n",
    "\n",
    "1. Changes to provide the tools to OpenAI in json when we make the call\n",
    "\n",
    "2. Changes to handle the results back: look for the model staying that the finish_reason==\"tool_calls\" and then retrieve the call, run the function, provide the results."
   ]
  },
  {
   "cell_type": "markdown",
   "metadata": {},
   "source": [
    "### Bring them together"
   ]
  },
  {
   "cell_type": "code",
   "execution_count": 9,
   "metadata": {},
   "outputs": [],
   "source": [
    "tools = [tool_search, tool_push]"
   ]
  },
  {
   "cell_type": "code",
   "execution_count": 10,
   "metadata": {},
   "outputs": [],
   "source": [
    "# Step 1: Define the State object\n",
    "class State(TypedDict):\n",
    "    messages: Annotated[list, add_messages]"
   ]
  },
  {
   "cell_type": "code",
   "execution_count": 11,
   "metadata": {},
   "outputs": [],
   "source": [
    "# Step 2: Start the Graph Builder with this State class\n",
    "graph_builder = StateGraph(State)"
   ]
  },
  {
   "cell_type": "code",
   "execution_count": null,
   "metadata": {},
   "outputs": [
    {
     "name": "stdout",
     "output_type": "stream",
     "text": [
      "content='' additional_kwargs={} response_metadata={'model': 'gpt-oss:120b', 'created_at': '2025-09-11T08:07:21.5404745Z', 'done': True, 'done_reason': 'stop', 'total_duration': 19357498400, 'load_duration': 18548267900, 'prompt_eval_count': 163, 'prompt_eval_duration': 387787900, 'eval_count': 56, 'eval_duration': 420221300, 'model_name': 'gpt-oss:120b'} id='run--a5e02eef-02ac-4069-b417-d6498399d609-0' tool_calls=[{'name': 'search', 'args': {'__arg1': 'current weather Paris'}, 'id': '4c729457-ee17-4fe8-b97a-75e8d1ede327', 'type': 'tool_call'}] usage_metadata={'input_tokens': 163, 'output_tokens': 56, 'total_tokens': 219}\n"
     ]
    }
   ],
   "source": [
    "from langchain_ollama import OllamaLLM\n",
    "\n",
    "# Initialize Ollama model\n",
    "llm = ChatOllama(\n",
    "    model=\"gpt-oss:120b\",\n",
    "    temperature=0,\n",
    "    # other params...\n",
    ")   # or \"mistral\", \"codellama\", etc.\n",
    "\n",
    "# Bind tools just like with ChatOpenAI\n",
    "llm_with_tools = llm.bind_tools(tools)\n",
    "\n"
   ]
  },
  {
   "cell_type": "code",
   "execution_count": 13,
   "metadata": {},
   "outputs": [
    {
     "data": {
      "text/plain": [
       "<langgraph.graph.state.StateGraph at 0x2193dad6690>"
      ]
     },
     "execution_count": 13,
     "metadata": {},
     "output_type": "execute_result"
    }
   ],
   "source": [
    "# Step 3: Create a Node\n",
    "\n",
    "\n",
    "def chatbot(state: State):\n",
    "    return {\"messages\": [llm_with_tools.invoke(state[\"messages\"])]}\n",
    "\n",
    "graph_builder.add_node(\"chatbot\", chatbot)\n",
    "graph_builder.add_node(\"tools\", ToolNode(tools=tools))\n"
   ]
  },
  {
   "cell_type": "code",
   "execution_count": 14,
   "metadata": {},
   "outputs": [
    {
     "data": {
      "text/plain": [
       "<langgraph.graph.state.StateGraph at 0x2193dad6690>"
      ]
     },
     "execution_count": 14,
     "metadata": {},
     "output_type": "execute_result"
    }
   ],
   "source": [
    "graph_builder.add_conditional_edges( \"chatbot\", tools_condition, \"tools\")\n",
    "\n",
    "# Any time a tool is called, we return to the chatbot to decide the next step\n",
    "graph_builder.add_edge(\"tools\", \"chatbot\")\n",
    "graph_builder.add_edge(START, \"chatbot\")"
   ]
  },
  {
   "cell_type": "code",
   "execution_count": 15,
   "metadata": {},
   "outputs": [
    {
     "data": {
      "image/png": "[encoded data removed]",
      "text/plain": [
       "<IPython.core.display.Image object>"
      ]
     },
     "metadata": {},
     "output_type": "display_data"
    }
   ],
   "source": [
    "# Step 5: Compile the Graph\n",
    "graph = graph_builder.compile()\n",
    "display(Image(graph.get_graph().draw_mermaid_png()))"
   ]
  },
  {
   "cell_type": "code",
   "execution_count": 16,
   "metadata": {},
   "outputs": [
    {
     "name": "stdout",
     "output_type": "stream",
     "text": [
      "* Running on local URL:  http://127.0.0.1:7860\n",
      "* To create a public link, set `share=True` in `launch()`.\n"
     ]
    },
    {
     "data": {
      "text/html": [
       "<div><iframe src=\"http://127.0.0.1:7860/\" width=\"100%\" height=\"500\" allow=\"autoplay; camera; microphone; clipboard-read; clipboard-write;\" frameborder=\"0\" allowfullscreen></iframe></div>"
      ],
      "text/plain": [
       "<IPython.core.display.HTML object>"
      ]
     },
     "metadata": {},
     "output_type": "display_data"
    },
    {
     "data": {
      "text/plain": []
     },
     "execution_count": 16,
     "metadata": {},
     "output_type": "execute_result"
    }
   ],
   "source": [
    "def chat(user_input: str, history):\n",
    "    result = graph.invoke({\"messages\": [{\"role\": \"user\", \"content\": user_input}]})\n",
    "    return result[\"messages\"][-1].content\n",
    "\n",
    "\n",
    "gr.ChatInterface(chat, type=\"messages\").launch()"
   ]
  },
  {
   "cell_type": "code",
   "execution_count": 17,
   "metadata": {},
   "outputs": [],
   "source": [
    "from langgraph.checkpoint.memory import MemorySaver\n",
    "\n",
    "memory = MemorySaver()"
   ]
  },
  {
   "cell_type": "code",
   "execution_count": 20,
   "metadata": {},
   "outputs": [
    {
     "data": {
      "image/png": "[encoded data removed]",
      "text/plain": [
       "<IPython.core.display.Image object>"
      ]
     },
     "metadata": {},
     "output_type": "display_data"
    }
   ],
   "source": [
    "# Steps 1 and 2\n",
    "graph_builder = StateGraph(State)\n",
    "\n",
    "\n",
    "# Step 3\n",
    "# Initialize Ollama model\n",
    "llm = ChatOllama(\n",
    "    model=\"gpt-oss:120b\",\n",
    "    temperature=0,\n",
    "    # other params...\n",
    ")   # or \"mistral\", \"codellama\", etc.\n",
    "\n",
    "# Bind tools just like with ChatOpenAI\n",
    "llm_with_tools = llm.bind_tools(tools)\n",
    "\n",
    "def chatbot(state: State):\n",
    "    print(state)\n",
    "    return {\"messages\": [llm_with_tools.invoke(state[\"messages\"])]}\n",
    "\n",
    "graph_builder.add_node(\"chatbot\", chatbot)\n",
    "graph_builder.add_node(\"tools\", ToolNode(tools=tools))\n",
    "\n",
    "# Step 4\n",
    "graph_builder.add_conditional_edges( \"chatbot\", tools_condition, \"tools\")\n",
    "graph_builder.add_edge(\"tools\", \"chatbot\")\n",
    "graph_builder.add_edge(START, \"chatbot\")\n",
    "\n",
    "# Step 5\n",
    "graph = graph_builder.compile(checkpointer=memory)\n",
    "display(Image(graph.get_graph().draw_mermaid_png()))"
   ]
  },
  {
   "cell_type": "code",
   "execution_count": null,
   "metadata": {},
   "outputs": [
    {
     "name": "stdout",
     "output_type": "stream",
     "text": [
      "* Running on local URL:  http://127.0.0.1:7862\n",
      "* To create a public link, set `share=True` in `launch()`.\n"
     ]
    },
    {
     "data": {
      "text/html": [
       "<div><iframe src=\"http://127.0.0.1:7862/\" width=\"100%\" height=\"500\" allow=\"autoplay; camera; microphone; clipboard-read; clipboard-write;\" frameborder=\"0\" allowfullscreen></iframe></div>"
      ],
      "text/plain": [
       "<IPython.core.display.HTML object>"
      ]
     },
     "metadata": {},
     "output_type": "display_data"
    },
    {
     "data": {
      "text/plain": []
     },
     "execution_count": 21,
     "metadata": {},
     "output_type": "execute_result"
    },
    {
     "name": "stdout",
     "output_type": "stream",
     "text": [
      "{'messages': [HumanMessage(content='hi', additional_kwargs={}, response_metadata={}, id='cf4205ec-f3fe-4020-8cfb-ce40cca9577c'), HumanMessage(content='hi', additional_kwargs={}, response_metadata={}, id='b3a960f4-3628-4a39-8187-d3560fd12bf3')]}\n",
      "{'messages': [HumanMessage(content='hi', additional_kwargs={}, response_metadata={}, id='cf4205ec-f3fe-4020-8cfb-ce40cca9577c'), HumanMessage(content='hi', additional_kwargs={}, response_metadata={}, id='b3a960f4-3628-4a39-8187-d3560fd12bf3'), AIMessage(content='Hello! How can I help you today?', additional_kwargs={}, response_metadata={'model': 'gpt-oss:120b', 'created_at': '2025-09-11T08:12:32.0490522Z', 'done': True, 'done_reason': 'stop', 'total_duration': 509921500, 'load_duration': 135684900, 'prompt_eval_count': 160, 'prompt_eval_duration': 111056500, 'eval_count': 30, 'eval_duration': 209415300, 'model_name': 'gpt-oss:120b'}, id='run--f11d2811-5607-427b-bae8-85553e342c8e-0', usage_metadata={'input_tokens': 160, 'output_tokens': 30, 'total_tokens': 190}), HumanMessage(content='my name is mano', additional_kwargs={}, response_metadata={}, id='ea2e4296-a024-45dc-ae4e-fdeb0a3b3ae4')]}\n",
      "{'messages': [HumanMessage(content='hi', additional_kwargs={}, response_metadata={}, id='cf4205ec-f3fe-4020-8cfb-ce40cca9577c'), HumanMessage(content='hi', additional_kwargs={}, response_metadata={}, id='b3a960f4-3628-4a39-8187-d3560fd12bf3'), AIMessage(content='Hello! How can I help you today?', additional_kwargs={}, response_metadata={'model': 'gpt-oss:120b', 'created_at': '2025-09-11T08:12:32.0490522Z', 'done': True, 'done_reason': 'stop', 'total_duration': 509921500, 'load_duration': 135684900, 'prompt_eval_count': 160, 'prompt_eval_duration': 111056500, 'eval_count': 30, 'eval_duration': 209415300, 'model_name': 'gpt-oss:120b'}, id='run--f11d2811-5607-427b-bae8-85553e342c8e-0', usage_metadata={'input_tokens': 160, 'output_tokens': 30, 'total_tokens': 190}), HumanMessage(content='my name is mano', additional_kwargs={}, response_metadata={}, id='ea2e4296-a024-45dc-ae4e-fdeb0a3b3ae4'), AIMessage(content='Nice to meet you, Mano! How can I assist you today?', additional_kwargs={}, response_metadata={'model': 'gpt-oss:120b', 'created_at': '2025-09-11T08:12:45.3521891Z', 'done': True, 'done_reason': 'stop', 'total_duration': 687210700, 'load_duration': 146865700, 'prompt_eval_count': 183, 'prompt_eval_duration': 222872400, 'eval_count': 41, 'eval_duration': 296215600, 'model_name': 'gpt-oss:120b'}, id='run--4adc9c58-0b4a-461b-80e9-c10c6dbc7249-0', usage_metadata={'input_tokens': 183, 'output_tokens': 41, 'total_tokens': 224}), HumanMessage(content='what is my name', additional_kwargs={}, response_metadata={}, id='c5b879e2-904e-4055-8c31-044ea9c5f8eb')]}\n",
      "{'messages': [HumanMessage(content='hi', additional_kwargs={}, response_metadata={}, id='cf4205ec-f3fe-4020-8cfb-ce40cca9577c'), HumanMessage(content='hi', additional_kwargs={}, response_metadata={}, id='b3a960f4-3628-4a39-8187-d3560fd12bf3'), AIMessage(content='Hello! How can I help you today?', additional_kwargs={}, response_metadata={'model': 'gpt-oss:120b', 'created_at': '2025-09-11T08:12:32.0490522Z', 'done': True, 'done_reason': 'stop', 'total_duration': 509921500, 'load_duration': 135684900, 'prompt_eval_count': 160, 'prompt_eval_duration': 111056500, 'eval_count': 30, 'eval_duration': 209415300, 'model_name': 'gpt-oss:120b'}, id='run--f11d2811-5607-427b-bae8-85553e342c8e-0', usage_metadata={'input_tokens': 160, 'output_tokens': 30, 'total_tokens': 190}), HumanMessage(content='my name is mano', additional_kwargs={}, response_metadata={}, id='ea2e4296-a024-45dc-ae4e-fdeb0a3b3ae4'), AIMessage(content='Nice to meet you, Mano! How can I assist you today?', additional_kwargs={}, response_metadata={'model': 'gpt-oss:120b', 'created_at': '2025-09-11T08:12:45.3521891Z', 'done': True, 'done_reason': 'stop', 'total_duration': 687210700, 'load_duration': 146865700, 'prompt_eval_count': 183, 'prompt_eval_duration': 222872400, 'eval_count': 41, 'eval_duration': 296215600, 'model_name': 'gpt-oss:120b'}, id='run--4adc9c58-0b4a-461b-80e9-c10c6dbc7249-0', usage_metadata={'input_tokens': 183, 'output_tokens': 41, 'total_tokens': 224}), HumanMessage(content='what is my name', additional_kwargs={}, response_metadata={}, id='c5b879e2-904e-4055-8c31-044ea9c5f8eb'), AIMessage(content='Your name is Mano.', additional_kwargs={}, response_metadata={'model': 'gpt-oss:120b', 'created_at': '2025-09-11T08:13:00.9698099Z', 'done': True, 'done_reason': 'stop', 'total_duration': 666837400, 'load_duration': 133772000, 'prompt_eval_count': 211, 'prompt_eval_duration': 205874000, 'eval_count': 40, 'eval_duration': 286896000, 'model_name': 'gpt-oss:120b'}, id='run--ca23f361-a5e2-4434-9c72-a73121edf623-0', usage_metadata={'input_tokens': 211, 'output_tokens': 40, 'total_tokens': 251}), HumanMessage(content='i like mango', additional_kwargs={}, response_metadata={}, id='048f57c2-ebd7-4b42-bb02-9c6f6870c646')]}\n",
      "{'messages': [HumanMessage(content='hi', additional_kwargs={}, response_metadata={}, id='cf4205ec-f3fe-4020-8cfb-ce40cca9577c'), HumanMessage(content='hi', additional_kwargs={}, response_metadata={}, id='b3a960f4-3628-4a39-8187-d3560fd12bf3'), AIMessage(content='Hello! How can I help you today?', additional_kwargs={}, response_metadata={'model': 'gpt-oss:120b', 'created_at': '2025-09-11T08:12:32.0490522Z', 'done': True, 'done_reason': 'stop', 'total_duration': 509921500, 'load_duration': 135684900, 'prompt_eval_count': 160, 'prompt_eval_duration': 111056500, 'eval_count': 30, 'eval_duration': 209415300, 'model_name': 'gpt-oss:120b'}, id='run--f11d2811-5607-427b-bae8-85553e342c8e-0', usage_metadata={'input_tokens': 160, 'output_tokens': 30, 'total_tokens': 190}), HumanMessage(content='my name is mano', additional_kwargs={}, response_metadata={}, id='ea2e4296-a024-45dc-ae4e-fdeb0a3b3ae4'), AIMessage(content='Nice to meet you, Mano! How can I assist you today?', additional_kwargs={}, response_metadata={'model': 'gpt-oss:120b', 'created_at': '2025-09-11T08:12:45.3521891Z', 'done': True, 'done_reason': 'stop', 'total_duration': 687210700, 'load_duration': 146865700, 'prompt_eval_count': 183, 'prompt_eval_duration': 222872400, 'eval_count': 41, 'eval_duration': 296215600, 'model_name': 'gpt-oss:120b'}, id='run--4adc9c58-0b4a-461b-80e9-c10c6dbc7249-0', usage_metadata={'input_tokens': 183, 'output_tokens': 41, 'total_tokens': 224}), HumanMessage(content='what is my name', additional_kwargs={}, response_metadata={}, id='c5b879e2-904e-4055-8c31-044ea9c5f8eb'), AIMessage(content='Your name is Mano.', additional_kwargs={}, response_metadata={'model': 'gpt-oss:120b', 'created_at': '2025-09-11T08:13:00.9698099Z', 'done': True, 'done_reason': 'stop', 'total_duration': 666837400, 'load_duration': 133772000, 'prompt_eval_count': 211, 'prompt_eval_duration': 205874000, 'eval_count': 40, 'eval_duration': 286896000, 'model_name': 'gpt-oss:120b'}, id='run--ca23f361-a5e2-4434-9c72-a73121edf623-0', usage_metadata={'input_tokens': 211, 'output_tokens': 40, 'total_tokens': 251}), HumanMessage(content='i like mango', additional_kwargs={}, response_metadata={}, id='048f57c2-ebd7-4b42-bb02-9c6f6870c646'), AIMessage(content='Got it—mangoes are delicious! 🍋 Do you have a favorite way to enjoy them? Fresh, in a smoothie, a mango salsa, or maybe something else? Let me know if you’d like any recipe ideas or fun facts about mangoes!', additional_kwargs={}, response_metadata={'model': 'gpt-oss:120b', 'created_at': '2025-09-11T08:13:12.9193886Z', 'done': True, 'done_reason': 'stop', 'total_duration': 960735600, 'load_duration': 133654200, 'prompt_eval_count': 229, 'prompt_eval_duration': 100058200, 'eval_count': 90, 'eval_duration': 658896300, 'model_name': 'gpt-oss:120b'}, id='run--ed1fdb7a-0ae7-4d70-97d7-0d73dbc5ce12-0', usage_metadata={'input_tokens': 229, 'output_tokens': 90, 'total_tokens': 319}), HumanMessage(content='anything ', additional_kwargs={}, response_metadata={}, id='390c4633-5f5f-497c-90d6-b6e4384fe66d')]}\n",
      "{'messages': [HumanMessage(content='hi', additional_kwargs={}, response_metadata={}, id='cf4205ec-f3fe-4020-8cfb-ce40cca9577c'), HumanMessage(content='hi', additional_kwargs={}, response_metadata={}, id='b3a960f4-3628-4a39-8187-d3560fd12bf3'), AIMessage(content='Hello! How can I help you today?', additional_kwargs={}, response_metadata={'model': 'gpt-oss:120b', 'created_at': '2025-09-11T08:12:32.0490522Z', 'done': True, 'done_reason': 'stop', 'total_duration': 509921500, 'load_duration': 135684900, 'prompt_eval_count': 160, 'prompt_eval_duration': 111056500, 'eval_count': 30, 'eval_duration': 209415300, 'model_name': 'gpt-oss:120b'}, id='run--f11d2811-5607-427b-bae8-85553e342c8e-0', usage_metadata={'input_tokens': 160, 'output_tokens': 30, 'total_tokens': 190}), HumanMessage(content='my name is mano', additional_kwargs={}, response_metadata={}, id='ea2e4296-a024-45dc-ae4e-fdeb0a3b3ae4'), AIMessage(content='Nice to meet you, Mano! How can I assist you today?', additional_kwargs={}, response_metadata={'model': 'gpt-oss:120b', 'created_at': '2025-09-11T08:12:45.3521891Z', 'done': True, 'done_reason': 'stop', 'total_duration': 687210700, 'load_duration': 146865700, 'prompt_eval_count': 183, 'prompt_eval_duration': 222872400, 'eval_count': 41, 'eval_duration': 296215600, 'model_name': 'gpt-oss:120b'}, id='run--4adc9c58-0b4a-461b-80e9-c10c6dbc7249-0', usage_metadata={'input_tokens': 183, 'output_tokens': 41, 'total_tokens': 224}), HumanMessage(content='what is my name', additional_kwargs={}, response_metadata={}, id='c5b879e2-904e-4055-8c31-044ea9c5f8eb'), AIMessage(content='Your name is Mano.', additional_kwargs={}, response_metadata={'model': 'gpt-oss:120b', 'created_at': '2025-09-11T08:13:00.9698099Z', 'done': True, 'done_reason': 'stop', 'total_duration': 666837400, 'load_duration': 133772000, 'prompt_eval_count': 211, 'prompt_eval_duration': 205874000, 'eval_count': 40, 'eval_duration': 286896000, 'model_name': 'gpt-oss:120b'}, id='run--ca23f361-a5e2-4434-9c72-a73121edf623-0', usage_metadata={'input_tokens': 211, 'output_tokens': 40, 'total_tokens': 251}), HumanMessage(content='i like mango', additional_kwargs={}, response_metadata={}, id='048f57c2-ebd7-4b42-bb02-9c6f6870c646'), AIMessage(content='Got it—mangoes are delicious! 🍋 Do you have a favorite way to enjoy them? Fresh, in a smoothie, a mango salsa, or maybe something else? Let me know if you’d like any recipe ideas or fun facts about mangoes!', additional_kwargs={}, response_metadata={'model': 'gpt-oss:120b', 'created_at': '2025-09-11T08:13:12.9193886Z', 'done': True, 'done_reason': 'stop', 'total_duration': 960735600, 'load_duration': 133654200, 'prompt_eval_count': 229, 'prompt_eval_duration': 100058200, 'eval_count': 90, 'eval_duration': 658896300, 'model_name': 'gpt-oss:120b'}, id='run--ed1fdb7a-0ae7-4d70-97d7-0d73dbc5ce12-0', usage_metadata={'input_tokens': 229, 'output_tokens': 90, 'total_tokens': 319}), HumanMessage(content='anything ', additional_kwargs={}, response_metadata={}, id='390c4633-5f5f-497c-90d6-b6e4384fe66d'), AIMessage(content='### Mango\\u202f—\\u202fThe “King of Fruits” 🍋\\n\\nBelow is a quick‑reference guide that covers everything you might want to know about mangoes: fun facts, health benefits, ways to enjoy them, and a few easy recipes you can try right now.\\n\\n---\\n\\n## 1️⃣ Quick Fun Facts\\n| Fact | Details |\\n|------|---------|\\n| **Scientific name** | *Mangifera indica* |\\n| **Origin** | Native to South‑Asia (India, Myanmar, Bangladesh). |\\n| **World production** | ~\\u202f50\\u202fmillion\\u202ftons per year; India alone supplies ~\\u202f45\\u202f% of the global harvest. |\\n| **Varieties** | Over 400 cultivars! Popular ones include **Alphonso**, **Ataulfo (Honey),** **Tommy\\u202fAtkins**, **Kent**, **Haden**, and **Keitt**. |\\n| **Seasonality** | In the Northern Hemisphere, peak season runs **April\\u202f–\\u202fJuly** (though tropical imports make them available year‑round). |\\n| **Cultural significance** | In India, mango leaves are used in wedding decorations; in the Philippines, the mango is the national fruit. |\\n\\n---\\n\\n## 2️⃣ Health Benefits (Why mangoes are a super‑food)\\n\\n| Benefit | How mango helps |\\n|---------|-----------------|\\n| **Rich in vitamins** | **Vitamin\\u202fC** (≈\\u202f60\\u202f% of DV per cup) boosts immunity; **Vitamin\\u202fA** (β‑carotene) supports eye health. |\\n| **Fiber powerhouse** | ~\\u202f3\\u202fg of dietary fiber per cup aids digestion and helps regulate blood sugar. |\\n| **Antioxidants** | Contains **quercetin, mangiferin, catechins,** and **anthocyanins** that combat oxidative stress. |\\n| **Heart health** | Potassium (≈\\u202f10\\u202f% DV) and magnesium help maintain healthy blood pressure. |\\n| **Skin & hair** | Vitamin\\u202fA & C promote collagen production, keeping skin supple and hair strong. |\\n| **Potential anti‑cancer properties** | Early studies suggest mangiferin may inhibit the growth of certain cancer cells (still under research). |\\n\\n---\\n\\n## 3️⃣ How to Pick a Perfect Mango\\n\\n| Indicator | What to look for |\\n|-----------|------------------|\\n| **Color** | Depends on variety (e.g., deep golden‑yellow for Ataulfo, red‑blush for Tommy\\u202fAtkins). |\\n| **Feel** | Gently press the stem end; it should give slightly—like a ripe peach. |\\n| **Smell** | A sweet, fragrant aroma near the stem signals ripeness. |\\n| **Avoid** | Dark spots, mushy areas, or a sour smell (over‑ripe or spoiled). |\\n\\n*Tip:* If you buy a firm mango, let it sit at room temperature for 2‑5\\u202fdays. Once ripe, store it in the fridge for up to 5\\u202fdays.\\n\\n---\\n\\n## 4️⃣ Easy Ways to Enjoy Mango\\n\\n| Method | Quick Idea |\\n|--------|------------|\\n| **Fresh slices** | Peel, slice, and sprinkle with a pinch of **chili powder + lime** for a Mexican‑style snack. |\\n| **Smoothie** | Blend 1 cup mango, ½ banana, ½ cup coconut water, a handful of spinach, and ice. |\\n| **Mango salsa** | Dice mango, red onion, jalapeño, cilantro, lime juice, and a pinch of salt. Great on fish or tacos. |\\n| **Mango salad** | Toss mango cubes with mixed greens, avocado, toasted peanuts, and a honey‑lime dressing. |\\n| **Dessert** | Grill mango halves, drizzle with honey, and serve with vanilla ice cream. |\\n| **Savory curry** | Add mango chunks to a coconut‑milk‑based curry for a sweet‑savory contrast. |\\n| **Mango chutney** | Cook mango, vinegar, brown sugar, ginger, and spices until thick; perfect with grilled chicken or cheese boards. |\\n\\n---\\n\\n## 5️⃣ Three Simple Recipes to Try Right Now\\n\\n### A. **Mango‑Lime Chili Snack** (Ready in 5\\u202fmin)\\n\\n**Ingredients**  \\n- 1 ripe mango, peeled & sliced into sticks  \\n- ½ tsp chili powder (or Tajín)  \\n- ½ tsp sea salt  \\n- Juice of ½ lime  \\n\\n**Directions**  \\n1. Arrange mango sticks on a plate.  \\n2. Sprinkle evenly with chili powder and salt.  \\n3. Drizzle lime juice over the top.  \\n4. Enjoy immediately – the sweet‑spicy‑tangy combo is addictive!\\n\\n---\\n\\n### B. **Mango‑Coconut Smoothie** (1‑minute blend)\\n\\n**Ingredients**  \\n- 1 cup frozen mango chunks  \\n- ½ cup coconut milk (or coconut water)  \\n- ¼ cup Greek yogurt (optional for protein)  \\n- 1 tsp honey or agave (optional)  \\n- A pinch of ground ginger (optional)  \\n\\n**Directions**  \\n1. Add all ingredients to a blender.  \\n2. Blend on high until smooth.  \\n3. Pour into a glass, garnish with a mint leaf, and sip!\\n\\n---\\n\\n### C. **Mango‑Avocado Salsa** (Great with chips or grilled fish)\\n\\n**Ingredients**  \\n- 1 ripe mango, diced  \\n- 1 ripe avocado, diced  \\n- ¼ cup red onion, finely chopped  \\n- 1 small jalapeño, seeded & minced  \\n- 2 tbsp fresh cilantro, chopped  \\n- Juice of 1 lime  \\n- Salt & pepper to taste  \\n\\n**Directions**  \\n1. Gently combine all ingredients in a bowl.  \\n2. Season with salt, pepper, and extra lime if desired.  \\n3. Let sit 5\\u202fmin for flavors to meld, then serve.\\n\\n---\\n\\n## 6️⃣ Storing Mangoes\\n\\n| State | Storage Method |\\n|-------|----------------|\\n| **Unripe** | Keep at room temperature, away from direct sunlight. |\\n| **Ripe (whole)** | Refrigerate in a sealed container or zip‑bag – lasts 4‑5\\u202fdays. |\\n| **Cut pieces** | Store in an airtight container with a squeeze of lemon/lime juice to prevent browning; keep refrigerated, use within 2\\u202fdays. |\\n| **Freezing** | Puree or slice, spread on a tray, freeze, then transfer to a freezer bag. Great for smoothies later. |\\n\\n---\\n\\n## 7️⃣ Fun Trivia Quiz (Test yourself!)\\n\\n1. **Which country produces the most mangoes?**  \\n   A) Brazil\\u2003B) India\\u2003C) Mexico\\u2003D) Thailand  \\n\\n2. **What is the name of the antioxidant uniquely abundant in mangoes?**  \\n   A) Resveratrol\\u2003B) Mangiferin\\u2003C) Lycopene\\u2003D) Curcumin  \\n\\n3. **In which Indian festival are mango leaves used as decorations?**  \\n   A) Diwali\\u2003B) Holi\\u2003C) Navratri\\u2003D) Pongal  \\n\\n*Answers:* 1️⃣\\u202fB, 2️⃣\\u202fB, 3️⃣\\u202fA.\\n\\n---\\n\\n### 🎉 Quick Takeaway\\n\\n- **Mangoes are tasty, nutritious, and versatile.**  \\n- They’re packed with vitamins\\u202fC &\\u202fA, fiber, and antioxidants.  \\n- Whether you eat them fresh, blend them, or cook them into salsas and curries, there’s a mango‑based option for every meal.\\n\\nEnjoy experimenting! If you’d like a deeper dive into any specific recipe, nutrition data, or even a mango‑themed party menu, just let me know. 🌟', additional_kwargs={}, response_metadata={'model': 'gpt-oss:120b', 'created_at': '2025-09-11T08:13:34.8182142Z', 'done': True, 'done_reason': 'stop', 'total_duration': 12869554500, 'load_duration': 133248600, 'prompt_eval_count': 294, 'prompt_eval_duration': 290273700, 'eval_count': 1658, 'eval_duration': 12343476700, 'model_name': 'gpt-oss:120b'}, id='run--5158fd5e-4cc3-45d4-a77e-e985e58095df-0', usage_metadata={'input_tokens': 294, 'output_tokens': 1658, 'total_tokens': 1952}), HumanMessage(content='what is my faviourt fruit', additional_kwargs={}, response_metadata={}, id='035d0e51-c9ad-4a56-a9fe-92fcab50c827')]}\n"
     ]
    }
   ],
   "source": [
    "config = {\"configurable\": {\"thread_id\": \"1\"}}\n",
    "\n",
    "def chat(user_input: str, history):\n",
    "    result = graph.invoke({\"messages\": [{\"role\": \"user\", \"content\": user_input}]}, config=config)\n",
    "    return result[\"messages\"][-1].content\n",
    "\n",
    "\n",
    "gr.ChatInterface(chat, type=\"messages\").launch()"
   ]
  },
  {
   "cell_type": "code",
   "execution_count": 22,
   "metadata": {},
   "outputs": [],
   "source": [
    "import sqlite3\n",
    "from langgraph.checkpoint.sqlite import SqliteSaver\n",
    "\n",
    "db_path = \"memory.db\"\n",
    "conn = sqlite3.connect(db_path, check_same_thread=False)\n",
    "sql_memory = SqliteSaver(conn)"
   ]
  },
  {
   "cell_type": "code",
   "execution_count": 25,
   "metadata": {},
   "outputs": [
    {
     "data": {
      "image/png": "[encoded data removed]",
      "text/plain": [
       "<IPython.core.display.Image object>"
      ]
     },
     "metadata": {},
     "output_type": "display_data"
    }
   ],
   "source": [
    "# Steps 1 and 2\n",
    "graph_builder = StateGraph(State)\n",
    "\n",
    "\n",
    "# Step 3\n",
    "llm = ChatOllama(\n",
    "    model=\"gpt-oss:120b\",\n",
    "    temperature=0,\n",
    "    # other params...\n",
    ")   # or \"mistral\", \"codellama\", etc.\n",
    "\n",
    "# Bind tools just like with ChatOpenAI\n",
    "llm_with_tools = llm.bind_tools(tools)\n",
    "\n",
    "def chatbot(state: State):\n",
    "    print(state)\n",
    "    return {\"messages\": [llm_with_tools.invoke(state[\"messages\"])]}\n",
    "\n",
    "graph_builder.add_node(\"chatbot\", chatbot)\n",
    "graph_builder.add_node(\"tools\", ToolNode(tools=tools))\n",
    "\n",
    "# Step 4\n",
    "graph_builder.add_conditional_edges( \"chatbot\", tools_condition, \"tools\")\n",
    "graph_builder.add_edge(\"tools\", \"chatbot\")\n",
    "graph_builder.add_edge(START, \"chatbot\")\n",
    "\n",
    "# Step 5\n",
    "graph = graph_builder.compile(checkpointer=sql_memory)\n",
    "display(Image(graph.get_graph().draw_mermaid_png()))"
   ]
  },
  {
   "cell_type": "code",
   "execution_count": 26,
   "metadata": {},
   "outputs": [
    {
     "name": "stdout",
     "output_type": "stream",
     "text": [
      "* Running on local URL:  http://127.0.0.1:7864\n",
      "* To create a public link, set `share=True` in `launch()`.\n"
     ]
    },
    {
     "data": {
      "text/html": [
       "<div><iframe src=\"http://127.0.0.1:7864/\" width=\"100%\" height=\"500\" allow=\"autoplay; camera; microphone; clipboard-read; clipboard-write;\" frameborder=\"0\" allowfullscreen></iframe></div>"
      ],
      "text/plain": [
       "<IPython.core.display.HTML object>"
      ]
     },
     "metadata": {},
     "output_type": "display_data"
    },
    {
     "data": {
      "text/plain": []
     },
     "execution_count": 26,
     "metadata": {},
     "output_type": "execute_result"
    },
    {
     "name": "stdout",
     "output_type": "stream",
     "text": [
      "{'messages': [HumanMessage(content='hi there', additional_kwargs={}, response_metadata={}, id='d6144090-9963-438c-b21b-3fb4f06edbc0'), AIMessage(content='Hello! How can I assist you today?', additional_kwargs={'refusal': None}, response_metadata={'token_usage': {'completion_tokens': 11, 'prompt_tokens': 90, 'total_tokens': 101, 'completion_tokens_details': {'accepted_prediction_tokens': 0, 'audio_tokens': 0, 'reasoning_tokens': 0, 'rejected_prediction_tokens': 0}, 'prompt_tokens_details': {'audio_tokens': 0, 'cached_tokens': 0}}, 'model_name': 'gpt-4o-mini-2024-07-18', 'system_fingerprint': 'fp_b376dfbbd5', 'id': 'chatcmpl-BInN7JUnEYNTQqokCF3eihp5oKP0V', 'finish_reason': 'stop', 'logprobs': None}, id='run-4b488710-73ac-435e-a944-913a0c812d08-0', usage_metadata={'input_tokens': 90, 'output_tokens': 11, 'total_tokens': 101, 'input_token_details': {'audio': 0, 'cache_read': 0}, 'output_token_details': {'audio': 0, 'reasoning': 0}}), HumanMessage(content=\"what's my name\", additional_kwargs={}, response_metadata={}, id='0ee3236f-a0f8-487c-9e18-3a1a83e91d81'), AIMessage(content=\"I don't have access to personal information unless you provide it. What would you like me to call you?\", additional_kwargs={'refusal': None}, response_metadata={'token_usage': {'completion_tokens': 23, 'prompt_tokens': 111, 'total_tokens': 134, 'completion_tokens_details': {'accepted_prediction_tokens': 0, 'audio_tokens': 0, 'reasoning_tokens': 0, 'rejected_prediction_tokens': 0}, 'prompt_tokens_details': {'audio_tokens': 0, 'cached_tokens': 0}}, 'model_name': 'gpt-4o-mini-2024-07-18', 'system_fingerprint': 'fp_b376dfbbd5', 'id': 'chatcmpl-BInNEm0T32rf7Lx23sOvrcePfgL8d', 'finish_reason': 'stop', 'logprobs': None}, id='run-c12bd46c-0c94-475c-b281-89773b1947a2-0', usage_metadata={'input_tokens': 111, 'output_tokens': 23, 'total_tokens': 134, 'input_token_details': {'audio': 0, 'cache_read': 0}, 'output_token_details': {'audio': 0, 'reasoning': 0}}), HumanMessage(content=\"My name's Ed\", additional_kwargs={}, response_metadata={}, id='65e59191-b993-4faf-9699-197f70b79fcd'), AIMessage(content='Nice to meet you, Ed! How can I assist you today?', additional_kwargs={'refusal': None}, response_metadata={'token_usage': {'completion_tokens': 16, 'prompt_tokens': 144, 'total_tokens': 160, 'completion_tokens_details': {'accepted_prediction_tokens': 0, 'audio_tokens': 0, 'reasoning_tokens': 0, 'rejected_prediction_tokens': 0}, 'prompt_tokens_details': {'audio_tokens': 0, 'cached_tokens': 0}}, 'model_name': 'gpt-4o-mini-2024-07-18', 'system_fingerprint': 'fp_b376dfbbd5', 'id': 'chatcmpl-BInNLLW9Z5vrmr2MUfk6CLJBnCMOg', 'finish_reason': 'stop', 'logprobs': None}, id='run-68e08e4e-bc27-4802-b800-8fb359a5d976-0', usage_metadata={'input_tokens': 144, 'output_tokens': 16, 'total_tokens': 160, 'input_token_details': {'audio': 0, 'cache_read': 0}, 'output_token_details': {'audio': 0, 'reasoning': 0}}), HumanMessage(content='hi there', additional_kwargs={}, response_metadata={}, id='dfeeb914-53d6-404f-9a5c-0531f1fe43fe'), AIMessage(content='Hello again, Ed! How can I help you today?', additional_kwargs={'refusal': None}, response_metadata={'token_usage': {'completion_tokens': 14, 'prompt_tokens': 168, 'total_tokens': 182, 'completion_tokens_details': {'accepted_prediction_tokens': 0, 'audio_tokens': 0, 'reasoning_tokens': 0, 'rejected_prediction_tokens': 0}, 'prompt_tokens_details': {'audio_tokens': 0, 'cached_tokens': 0}}, 'model_name': 'gpt-4o-mini-2024-07-18', 'system_fingerprint': 'fp_b376dfbbd5', 'id': 'chatcmpl-BInOS7TKECQA9Trbcv3mBsxkVJ8c3', 'finish_reason': 'stop', 'logprobs': None}, id='run-8b9e7d2c-d34d-4d84-99d2-dcb6b26b84bf-0', usage_metadata={'input_tokens': 168, 'output_tokens': 14, 'total_tokens': 182, 'input_token_details': {'audio': 0, 'cache_read': 0}, 'output_token_details': {'audio': 0, 'reasoning': 0}}), HumanMessage(content='please send me a push notification with the current usd/gbp exchange rate', additional_kwargs={}, response_metadata={}, id='6e096518-8d44-40e9-8aba-bf5027dac79c'), AIMessage(content='', additional_kwargs={'tool_calls': [{'id': 'call_mFP2QpmSUYlvqjz3HBvRv0Cv', 'function': {'arguments': '{\"__arg1\":\"current USD to GBP exchange rate\"}', 'name': 'search'}, 'type': 'function'}], 'refusal': None}, response_metadata={'token_usage': {'completion_tokens': 21, 'prompt_tokens': 203, 'total_tokens': 224, 'completion_tokens_details': {'accepted_prediction_tokens': 0, 'audio_tokens': 0, 'reasoning_tokens': 0, 'rejected_prediction_tokens': 0}, 'prompt_tokens_details': {'audio_tokens': 0, 'cached_tokens': 0}}, 'model_name': 'gpt-4o-mini-2024-07-18', 'system_fingerprint': 'fp_b376dfbbd5', 'id': 'chatcmpl-BInShCTgCsggydsrv3MmpIXLyvzGF', 'finish_reason': 'tool_calls', 'logprobs': None}, id='run-1bc3e47d-30c5-40f4-a9da-42dd24e74732-0', tool_calls=[{'name': 'search', 'args': {'__arg1': 'current USD to GBP exchange rate'}, 'id': 'call_mFP2QpmSUYlvqjz3HBvRv0Cv', 'type': 'tool_call'}], usage_metadata={'input_tokens': 203, 'output_tokens': 21, 'total_tokens': 224, 'input_token_details': {'audio': 0, 'cache_read': 0}, 'output_token_details': {'audio': 0, 'reasoning': 0}}), ToolMessage(content='0.78 Pound sterling', name='search', id='04044643-e40a-4bda-a03c-bc80949d039c', tool_call_id='call_mFP2QpmSUYlvqjz3HBvRv0Cv'), AIMessage(content='', additional_kwargs={'tool_calls': [{'id': 'call_2RByu6cFdwow5BWX8eblN402', 'function': {'arguments': '{\"__arg1\":\"The current USD/GBP exchange rate is 0.78.\"}', 'name': 'send_push_notification'}, 'type': 'function'}], 'refusal': None}, response_metadata={'token_usage': {'completion_tokens': 30, 'prompt_tokens': 235, 'total_tokens': 265, 'completion_tokens_details': {'accepted_prediction_tokens': 0, 'audio_tokens': 0, 'reasoning_tokens': 0, 'rejected_prediction_tokens': 0}, 'prompt_tokens_details': {'audio_tokens': 0, 'cached_tokens': 0}}, 'model_name': 'gpt-4o-mini-2024-07-18', 'system_fingerprint': 'fp_b376dfbbd5', 'id': 'chatcmpl-BInSjgdmKJqByJ2VIxpCZE5vEQpep', 'finish_reason': 'tool_calls', 'logprobs': None}, id='run-030db0cd-4acc-4354-aa65-ae772d33be07-0', tool_calls=[{'name': 'send_push_notification', 'args': {'__arg1': 'The current USD/GBP exchange rate is 0.78.'}, 'id': 'call_2RByu6cFdwow5BWX8eblN402', 'type': 'tool_call'}], usage_metadata={'input_tokens': 235, 'output_tokens': 30, 'total_tokens': 265, 'input_token_details': {'audio': 0, 'cache_read': 0}, 'output_token_details': {'audio': 0, 'reasoning': 0}}), ToolMessage(content='null', name='send_push_notification', id='f16f6e9d-2d0e-4aca-991f-0d9fe7064574', tool_call_id='call_2RByu6cFdwow5BWX8eblN402'), AIMessage(content=\"I've sent you a push notification with the current USD/GBP exchange rate: 0.78. If you need anything else, just let me know!\", additional_kwargs={'refusal': None}, response_metadata={'token_usage': {'completion_tokens': 33, 'prompt_tokens': 274, 'total_tokens': 307, 'completion_tokens_details': {'accepted_prediction_tokens': 0, 'audio_tokens': 0, 'reasoning_tokens': 0, 'rejected_prediction_tokens': 0}, 'prompt_tokens_details': {'audio_tokens': 0, 'cached_tokens': 0}}, 'model_name': 'gpt-4o-mini-2024-07-18', 'system_fingerprint': 'fp_b376dfbbd5', 'id': 'chatcmpl-BInSk4W7o3wDEZhzLtixtWOVgEw4Y', 'finish_reason': 'stop', 'logprobs': None}, id='run-bc27a847-b5bf-4565-85af-8e3163f2c271-0', usage_metadata={'input_tokens': 274, 'output_tokens': 33, 'total_tokens': 307, 'input_token_details': {'audio': 0, 'cache_read': 0}, 'output_token_details': {'audio': 0, 'reasoning': 0}}), HumanMessage(content='can you send that push notification again please', additional_kwargs={}, response_metadata={}, id='328adc3d-8c39-4312-952c-3d3b87d5f736'), AIMessage(content='', additional_kwargs={'tool_calls': [{'id': 'call_9xFtRNwSPl00BBRdY3VGdZ9Y', 'function': {'arguments': '{\"__arg1\":\"The current USD/GBP exchange rate is 0.78.\"}', 'name': 'send_push_notification'}, 'type': 'function'}], 'refusal': None}, response_metadata={'token_usage': {'completion_tokens': 30, 'prompt_tokens': 321, 'total_tokens': 351, 'completion_tokens_details': {'accepted_prediction_tokens': 0, 'audio_tokens': 0, 'reasoning_tokens': 0, 'rejected_prediction_tokens': 0}, 'prompt_tokens_details': {'audio_tokens': 0, 'cached_tokens': 0}}, 'model_name': 'gpt-4o-mini-2024-07-18', 'system_fingerprint': 'fp_b376dfbbd5', 'id': 'chatcmpl-BInTHUIOvZ0DAwfqnVlb1SRlaKHmH', 'finish_reason': 'tool_calls', 'logprobs': None}, id='run-a2225381-34da-44b4-9e8d-45a0b8c29693-0', tool_calls=[{'name': 'send_push_notification', 'args': {'__arg1': 'The current USD/GBP exchange rate is 0.78.'}, 'id': 'call_9xFtRNwSPl00BBRdY3VGdZ9Y', 'type': 'tool_call'}], usage_metadata={'input_tokens': 321, 'output_tokens': 30, 'total_tokens': 351, 'input_token_details': {'audio': 0, 'cache_read': 0}, 'output_token_details': {'audio': 0, 'reasoning': 0}}), ToolMessage(content='null', name='send_push_notification', id='433985ee-9eeb-4b4b-866e-23cfc0f8e9fb', tool_call_id='call_9xFtRNwSPl00BBRdY3VGdZ9Y'), AIMessage(content=\"I've sent the push notification again with the current USD/GBP exchange rate: 0.78. If there's anything else you need, feel free to ask!\", additional_kwargs={'refusal': None}, response_metadata={'token_usage': {'completion_tokens': 34, 'prompt_tokens': 360, 'total_tokens': 394, 'completion_tokens_details': {'accepted_prediction_tokens': 0, 'audio_tokens': 0, 'reasoning_tokens': 0, 'rejected_prediction_tokens': 0}, 'prompt_tokens_details': {'audio_tokens': 0, 'cached_tokens': 0}}, 'model_name': 'gpt-4o-mini-2024-07-18', 'system_fingerprint': 'fp_b376dfbbd5', 'id': 'chatcmpl-BInTJ24F3iaC2JFCLGFb715HxeWU9', 'finish_reason': 'stop', 'logprobs': None}, id='run-eda57a8e-26a4-4aed-a3c6-ce404e2d5cfa-0', usage_metadata={'input_tokens': 360, 'output_tokens': 34, 'total_tokens': 394, 'input_token_details': {'audio': 0, 'cache_read': 0}, 'output_token_details': {'audio': 0, 'reasoning': 0}}), HumanMessage(content='hi', additional_kwargs={}, response_metadata={}, id='4d3b4646-08b0-43f8-884a-9d2eee64f99a'), HumanMessage(content='hi', additional_kwargs={}, response_metadata={}, id='b475fe3e-ebc8-47b1-a5d9-35d3770e2edd')]}\n"
     ]
    }
   ],
   "source": [
    "\n",
    "config = {\"configurable\": {\"thread_id\": \"3\"}}\n",
    "\n",
    "def chat(user_input: str, history):\n",
    "    result = graph.invoke({\"messages\": [{\"role\": \"user\", \"content\": user_input}]}, config=config)\n",
    "    return result[\"messages\"][-1].content\n",
    "\n",
    "\n",
    "gr.ChatInterface(chat, type=\"messages\").launch()"
   ]
  },
  {
   "cell_type": "code",
   "execution_count": null,
   "metadata": {},
   "outputs": [],
   "source": []
  }
 ],
 "metadata": {
  "kernelspec": {
   "display_name": ".venv",
   "language": "python",
   "name": "python3"
  },
  "language_info": {
   "codemirror_mode": {
    "name": "ipython",
    "version": 3
   },
   "file_extension": ".py",
   "mimetype": "text/x-python",
   "name": "python",
   "nbconvert_exporter": "python",
   "pygments_lexer": "ipython3",
   "version": "3.12.11"
  }
 },
 "nbformat": 4,
 "nbformat_minor": 2
}
