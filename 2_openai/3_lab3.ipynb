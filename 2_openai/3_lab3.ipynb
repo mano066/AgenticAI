{
 "cells": [
  {
   "cell_type": "markdown",
   "metadata": {},
   "source": [
    "## Week 2 Day 3\n",
    "\n",
    "Now we get to more detail:\n",
    "\n",
    "1. Different models\n",
    "\n",
    "2. Structured Outputs\n",
    "\n",
    "3. Guardrails"
   ]
  },
  {
   "cell_type": "code",
   "execution_count": 1,
   "metadata": {},
   "outputs": [],
   "source": [
    "from dotenv import load_dotenv\n",
    "from openai import AsyncOpenAI\n",
    "from agents import Agent, Runner, trace, function_tool, OpenAIChatCompletionsModel, input_guardrail, GuardrailFunctionOutput\n",
    "from typing import Dict\n",
    "import sendgrid\n",
    "import os\n",
    "from sendgrid.helpers.mail import Mail, Email, To, Content\n",
    "from pydantic import BaseModel"
   ]
  },
  {
   "cell_type": "code",
   "execution_count": 2,
   "metadata": {},
   "outputs": [
    {
     "data": {
      "text/plain": [
       "True"
      ]
     },
     "execution_count": 2,
     "metadata": {},
     "output_type": "execute_result"
    }
   ],
   "source": [
    "load_dotenv(override=True)"
   ]
  },
  {
   "cell_type": "code",
   "execution_count": 3,
   "metadata": {},
   "outputs": [
    {
     "name": "stdout",
     "output_type": "stream",
     "text": [
      "OpenAI API Key exists and begins sk-proj-\n",
      "Google API Key not set (and this is optional)\n",
      "DeepSeek API Key not set (and this is optional)\n",
      "Groq API Key exists and begins gsk_\n"
     ]
    }
   ],
   "source": [
    "openai_api_key = os.getenv('OPENAI_API_KEY')\n",
    "google_api_key = os.getenv('GOOGLE_API_KEY')\n",
    "deepseek_api_key = os.getenv('DEEPSEEK_API_KEY')\n",
    "groq_api_key = os.getenv('GROQ_API_KEY')\n",
    "\n",
    "if openai_api_key:\n",
    "    print(f\"OpenAI API Key exists and begins {openai_api_key[:8]}\")\n",
    "else:\n",
    "    print(\"OpenAI API Key not set\")\n",
    "\n",
    "if google_api_key:\n",
    "    print(f\"Google API Key exists and begins {google_api_key[:2]}\")\n",
    "else:\n",
    "    print(\"Google API Key not set (and this is optional)\")\n",
    "\n",
    "if deepseek_api_key:\n",
    "    print(f\"DeepSeek API Key exists and begins {deepseek_api_key[:3]}\")\n",
    "else:\n",
    "    print(\"DeepSeek API Key not set (and this is optional)\")\n",
    "\n",
    "if groq_api_key:\n",
    "    print(f\"Groq API Key exists and begins {groq_api_key[:4]}\")\n",
    "else:\n",
    "    print(\"Groq API Key not set (and this is optional)\")"
   ]
  },
  {
   "cell_type": "code",
   "execution_count": 4,
   "metadata": {},
   "outputs": [],
   "source": [
    "instructions1 = \"You are a sales agent working for ComplAI, \\\n",
    "a company that provides a SaaS tool for ensuring SOC2 compliance and preparing for audits, powered by AI. \\\n",
    "You write professional, serious cold emails.\"\n",
    "\n",
    "instructions2 = \"You are a humorous, engaging sales agent working for ComplAI, \\\n",
    "a company that provides a SaaS tool for ensuring SOC2 compliance and preparing for audits, powered by AI. \\\n",
    "You write witty, engaging cold emails that are likely to get a response.\"\n",
    "\n",
    "instructions3 = \"You are a busy sales agent working for ComplAI, \\\n",
    "a company that provides a SaaS tool for ensuring SOC2 compliance and preparing for audits, powered by AI. \\\n",
    "You write concise, to the point cold emails.\""
   ]
  },
  {
   "cell_type": "markdown",
   "metadata": {},
   "source": [
    "### It's easy to use any models with OpenAI compatible endpoints"
   ]
  },
  {
   "cell_type": "code",
   "execution_count": 5,
   "metadata": {},
   "outputs": [],
   "source": [
    "GEMINI_BASE_URL = \"https://generativelanguage.googleapis.com/v1beta/openai/\"\n",
    "DEEPSEEK_BASE_URL = \"https://api.deepseek.com/v1\"\n",
    "GROQ_BASE_URL = \"https://api.groq.com/openai/v1\"\n",
    "OLLAMA_BASE_URL = \"http://localhost:11434/v1\"\n"
   ]
  },
  {
   "cell_type": "code",
   "execution_count": 6,
   "metadata": {},
   "outputs": [],
   "source": [
    "\n",
    "# deepseek_client = AsyncOpenAI(base_url=DEEPSEEK_BASE_URL, api_key=deepseek_api_key)\n",
    "# gemini_client = AsyncOpenAI(base_url=GEMINI_BASE_URL, api_key=google_api_key)\n",
    "#groq_client = AsyncOpenAI(base_url=GROQ_BASE_URL, api_key=groq_api_key)\n",
    "ollama_client = AsyncOpenAI(base_url=OLLAMA_BASE_URL, api_key='ollama')\n",
    "\n",
    "# deepseek_model = OpenAIChatCompletionsModel(model=\"deepseek-chat\", openai_client=deepseek_client)\n",
    "# gemini_model = OpenAIChatCompletionsModel(model=\"gemini-2.0-flash\", openai_client=gemini_client)\n",
    "qwen_model = OpenAIChatCompletionsModel(model=\"qwen2.5:14b\", openai_client=ollama_client)\n",
    "llama3_model = OpenAIChatCompletionsModel(model=\"qwen2:7b\", openai_client=ollama_client)\n",
    "deepseek_model = OpenAIChatCompletionsModel(model=\"qwen2.5:14b\", openai_client=ollama_client)\n",
    "phi_model = OpenAIChatCompletionsModel(model=\"qwen3:8b\", openai_client=ollama_client)"
   ]
  },
  {
   "cell_type": "code",
   "execution_count": 7,
   "metadata": {},
   "outputs": [],
   "source": [
    "sales_agent1 = Agent(name=\"Qwen Sales Agent\", instructions=instructions1, model=qwen_model)                         \n",
    "sales_agent2 =  Agent(name=\"Llama3 Sales Agent\", instructions=instructions2, model=llama3_model)\n",
    "sales_agent3  = Agent(name=\"DeepSeek Sales Agent\",instructions=instructions3,model=deepseek_model)"
   ]
  },
  {
   "cell_type": "code",
   "execution_count": 8,
   "metadata": {},
   "outputs": [],
   "source": [
    "description = \"Write a cold sales email\"\n",
    "\n",
    "tool1 = sales_agent1.as_tool(tool_name=\"sales_agent1\", tool_description=description)\n",
    "tool2 = sales_agent2.as_tool(tool_name=\"sales_agent2\", tool_description=description)\n",
    "tool3 = sales_agent3.as_tool(tool_name=\"sales_agent3\", tool_description=description)"
   ]
  },
  {
   "cell_type": "code",
   "execution_count": 9,
   "metadata": {},
   "outputs": [],
   "source": [
    "@function_tool\n",
    "def send_html_email(subject: str, html_body: str) -> Dict[str, str]:\n",
    "    \"\"\" Send out an email with the given subject and HTML body to all sales prospects \"\"\"\n",
    "    sg = sendgrid.SendGridAPIClient(api_key=os.environ.get('SENDGRID_API_KEY'))\n",
    "    from_email = Email(\"mano@ieiworld.com\")  # Change to your verified sender\n",
    "    to_email = To(\"manomathew066@gmail.com\")  # Change to your recipient\n",
    "    content = Content(\"text/html\", html_body)\n",
    "    mail = Mail(from_email, to_email, subject, content).get()\n",
    "    response = sg.client.mail.send.post(request_body=mail)\n",
    "    print(\"send email success\")\n",
    "    return {\"status\": \"success\"}"
   ]
  },
  {
   "cell_type": "code",
   "execution_count": 10,
   "metadata": {},
   "outputs": [],
   "source": [
    "subject_instructions = \"You can write a subject for a cold sales email. \\\n",
    "You are given a message and you need to write a subject for an email that is likely to get a response.\"\n",
    "\n",
    "html_instructions = \"You can convert a text email body to an HTML email body. \\\n",
    "You are given a text email body which might have some markdown \\\n",
    "and you need to convert it to an HTML email body with simple, clear, compelling layout and design.\"\n",
    "\n",
    "subject_writer = Agent(name=\"Email subject writer\", instructions=subject_instructions, model=phi_model)\n",
    "subject_tool = subject_writer.as_tool(tool_name=\"subject_writer\", tool_description=\"Write a subject for a cold sales email\")\n",
    "\n",
    "html_converter = Agent(name=\"HTML email body converter\", instructions=html_instructions, model=phi_model)\n",
    "html_tool = html_converter.as_tool(tool_name=\"html_converter\",tool_description=\"Convert a text email body to an HTML email body\")"
   ]
  },
  {
   "cell_type": "code",
   "execution_count": 13,
   "metadata": {},
   "outputs": [],
   "source": [
    "email_tools = [subject_tool, html_tool, send_html_email]"
   ]
  },
  {
   "cell_type": "code",
   "execution_count": 14,
   "metadata": {},
   "outputs": [],
   "source": [
    "instructions =\"You are an email formatter and sender. You receive the body of an email to be sent. \\\n",
    "You first use the subject_writer tool to write a subject for the email, then use the html_converter tool to convert the body to HTML. \\\n",
    "Finally, you use the send_html_email tool to send the email with the subject and HTML body. only HTML\"\n",
    "\n",
    "\n",
    "emailer_agent = Agent(\n",
    "    name=\"Email Manager\",\n",
    "    instructions=instructions,\n",
    "    tools=email_tools,\n",
    "    model=deepseek_model,\n",
    "    handoff_description=\"Convert an email to HTML and send it\")"
   ]
  },
  {
   "cell_type": "code",
   "execution_count": 15,
   "metadata": {},
   "outputs": [],
   "source": [
    "tools = [tool1, tool2, tool3]\n",
    "handoffs = [emailer_agent]"
   ]
  },
  {
   "cell_type": "code",
   "execution_count": 16,
   "metadata": {},
   "outputs": [],
   "source": [
    "sales_manager_instructions = \"You are a sales manager working for ComplAI. You use the tools given to you to generate cold sales emails. \\\n",
    "You never generate sales emails yourself; you always use the tools. \\\n",
    "You try all 3 sales agent tools at least once before choosing the best one. \\\n",
    "You can use the tools multiple times if you're not satisfied with the results from the first try. \\\n",
    "You select the single best email using your own judgement of which email will be most effective. \\\n",
    "After picking the email, you handoff to the Email Manager agent to format and send the email.\"\n",
    "\n",
    "\n",
    "sales_manager = Agent(\n",
    "    name=\"Sales Manager\",\n",
    "    instructions=sales_manager_instructions,\n",
    "    tools=tools,\n",
    "    handoffs=handoffs,\n",
    "    model=deepseek_model)\n",
    "\n",
    "message = \"Send out a cold sales email addressed to Dear CEO from Alice\"\n",
    "\n",
    "\n",
    "# result = await Runner.run(sales_manager, message)"
   ]
  },
  {
   "cell_type": "markdown",
   "metadata": {},
   "source": [
    "## Check out the trace:\n",
    "\n",
    "https://platform.openai.com/traces"
   ]
  },
  {
   "cell_type": "code",
   "execution_count": 17,
   "metadata": {},
   "outputs": [],
   "source": [
    "class NameCheckOutput(BaseModel):\n",
    "    is_name_in_message: bool\n",
    "    name: str\n",
    "\n",
    "guardrail_agent = Agent( \n",
    "    name=\"Name check\",\n",
    "    instructions=\"Check if the user is including someone's personal name in what they want you to do.\",\n",
    "    output_type=NameCheckOutput,\n",
    "    model=deepseek_model\n",
    ")"
   ]
  },
  {
   "cell_type": "code",
   "execution_count": 18,
   "metadata": {},
   "outputs": [],
   "source": [
    "@input_guardrail\n",
    "async def guardrail_against_name(ctx, agent, message):\n",
    "    result = await Runner.run(guardrail_agent, message, context=ctx.context)\n",
    "    is_name_in_message = result.final_output.is_name_in_message\n",
    "    return GuardrailFunctionOutput(output_info={\"found_name\": result.final_output},tripwire_triggered=is_name_in_message)"
   ]
  },
  {
   "cell_type": "code",
   "execution_count": 19,
   "metadata": {},
   "outputs": [],
   "source": [
    "careful_sales_manager = Agent(\n",
    "    name=\"Sales Manager\",\n",
    "    instructions=sales_manager_instructions,\n",
    "    tools=tools,\n",
    "    handoffs=[emailer_agent],\n",
    "    model=deepseek_model,\n",
    "    input_guardrails=[guardrail_against_name]\n",
    "    )\n",
    "\n",
    "message = \"Send out a cold sales email addressed to Dear CEO from Alice\"\n",
    "\n",
    "# with trace(\"Protected Automated SDR\"):\n",
    "#    result = await Runner.run(careful_sales_manager, message)"
   ]
  },
  {
   "cell_type": "markdown",
   "metadata": {},
   "source": [
    "## Check out the trace:\n",
    "\n",
    "https://platform.openai.com/traces"
   ]
  },
  {
   "cell_type": "code",
   "execution_count": 20,
   "metadata": {},
   "outputs": [
    {
     "name": "stdout",
     "output_type": "stream",
     "text": [
      "send email success\n",
      "send email success\n"
     ]
    }
   ],
   "source": [
    "\n",
    "message = \"Send out a cold sales email addressed to Dear CEO from Head of Business Development\"\n",
    "\n",
    "with trace(\"Protected Automated SDR\"):\n",
    "    result = await Runner.run(careful_sales_manager, message)"
   ]
  },
  {
   "cell_type": "code",
   "execution_count": 21,
   "metadata": {},
   "outputs": [
    {
     "data": {
      "image/svg+xml": [
       "<?xml version=\"1.0\" encoding=\"UTF-8\" standalone=\"no\"?>\n",
       "<!DOCTYPE svg PUBLIC \"-//W3C//DTD SVG 1.1//EN\"\n",
       " \"http://www.w3.org/Graphics/SVG/1.1/DTD/svg11.dtd\">\n",
       "<!-- Generated by graphviz version 2.43.0 (0)\n",
       " -->\n",
       "<!-- Title: G Pages: 1 -->\n",
       "<svg width=\"791pt\" height=\"297pt\"\n",
       " viewBox=\"0.00 0.00 791.44 297.05\" xmlns=\"http://www.w3.org/2000/svg\" xmlns:xlink=\"http://www.w3.org/1999/xlink\">\n",
       "<g id=\"graph0\" class=\"graph\" transform=\"scale(1 1) rotate(0) translate(4 293.05)\">\n",
       "<title>G</title>\n",
       "<polygon fill=\"white\" stroke=\"transparent\" points=\"-4,4 -4,-293.05 787.44,-293.05 787.44,4 -4,4\"/>\n",
       "<!-- __start__ -->\n",
       "<g id=\"node1\" class=\"node\">\n",
       "<title>__start__</title>\n",
       "<ellipse fill=\"lightblue\" stroke=\"black\" cx=\"223.59\" cy=\"-272.79\" rx=\"51.74\" ry=\"16.03\"/>\n",
       "<text text-anchor=\"middle\" x=\"223.59\" y=\"-269.09\" font-family=\"Arial\" font-size=\"14.00\">__start__</text>\n",
       "</g>\n",
       "<!-- Sales Manager -->\n",
       "<g id=\"node3\" class=\"node\">\n",
       "<title>Sales Manager</title>\n",
       "<polygon fill=\"lightyellow\" stroke=\"black\" points=\"277.59,-220.53 169.59,-220.53 169.59,-162.53 277.59,-162.53 277.59,-220.53\"/>\n",
       "<text text-anchor=\"middle\" x=\"223.59\" y=\"-187.83\" font-family=\"Arial\" font-size=\"14.00\">Sales Manager</text>\n",
       "</g>\n",
       "<!-- __start__&#45;&gt;Sales Manager -->\n",
       "<g id=\"edge1\" class=\"edge\">\n",
       "<title>__start__&#45;&gt;Sales Manager</title>\n",
       "<path fill=\"none\" stroke=\"black\" stroke-width=\"1.5\" d=\"M223.59,-256.51C223.59,-249.12 223.59,-239.89 223.59,-230.76\"/>\n",
       "<polygon fill=\"black\" stroke=\"black\" stroke-width=\"1.5\" points=\"227.09,-230.6 223.59,-220.6 220.09,-230.6 227.09,-230.6\"/>\n",
       "</g>\n",
       "<!-- __end__ -->\n",
       "<g id=\"node2\" class=\"node\">\n",
       "<title>__end__</title>\n",
       "<ellipse fill=\"lightblue\" stroke=\"black\" cx=\"217.59\" cy=\"-16.26\" rx=\"48.58\" ry=\"16.03\"/>\n",
       "<text text-anchor=\"middle\" x=\"217.59\" y=\"-12.56\" font-family=\"Arial\" font-size=\"14.00\">__end__</text>\n",
       "</g>\n",
       "<!-- sales_agent1 -->\n",
       "<g id=\"node4\" class=\"node\">\n",
       "<title>sales_agent1</title>\n",
       "<ellipse fill=\"lightgreen\" stroke=\"black\" cx=\"68.59\" cy=\"-97.53\" rx=\"68.68\" ry=\"16.03\"/>\n",
       "<text text-anchor=\"middle\" x=\"68.59\" y=\"-93.83\" font-family=\"Arial\" font-size=\"14.00\">sales_agent1</text>\n",
       "</g>\n",
       "<!-- Sales Manager&#45;&gt;sales_agent1 -->\n",
       "<g id=\"edge2\" class=\"edge\">\n",
       "<title>Sales Manager&#45;&gt;sales_agent1</title>\n",
       "<path fill=\"none\" stroke=\"black\" stroke-width=\"1.5\" stroke-dasharray=\"1,5\" d=\"M169.97,-162.42C145.29,-148.25 117.07,-131.38 96.62,-118.54\"/>\n",
       "<polygon fill=\"black\" stroke=\"black\" stroke-width=\"1.5\" points=\"98.41,-115.53 88.09,-113.12 94.66,-121.44 98.41,-115.53\"/>\n",
       "</g>\n",
       "<!-- sales_agent2 -->\n",
       "<g id=\"node5\" class=\"node\">\n",
       "<title>sales_agent2</title>\n",
       "<ellipse fill=\"lightgreen\" stroke=\"black\" cx=\"223.59\" cy=\"-97.53\" rx=\"68.68\" ry=\"16.03\"/>\n",
       "<text text-anchor=\"middle\" x=\"223.59\" y=\"-93.83\" font-family=\"Arial\" font-size=\"14.00\">sales_agent2</text>\n",
       "</g>\n",
       "<!-- Sales Manager&#45;&gt;sales_agent2 -->\n",
       "<g id=\"edge4\" class=\"edge\">\n",
       "<title>Sales Manager&#45;&gt;sales_agent2</title>\n",
       "<path fill=\"none\" stroke=\"black\" stroke-width=\"1.5\" stroke-dasharray=\"1,5\" d=\"M217.32,-162.42C216.63,-150.21 216.68,-135.99 217.47,-124.08\"/>\n",
       "<polygon fill=\"black\" stroke=\"black\" stroke-width=\"1.5\" points=\"220.98,-124.18 218.4,-113.9 214.01,-123.54 220.98,-124.18\"/>\n",
       "</g>\n",
       "<!-- sales_agent3 -->\n",
       "<g id=\"node6\" class=\"node\">\n",
       "<title>sales_agent3</title>\n",
       "<ellipse fill=\"lightgreen\" stroke=\"black\" cx=\"378.59\" cy=\"-97.53\" rx=\"68.68\" ry=\"16.03\"/>\n",
       "<text text-anchor=\"middle\" x=\"378.59\" y=\"-93.83\" font-family=\"Arial\" font-size=\"14.00\">sales_agent3</text>\n",
       "</g>\n",
       "<!-- Sales Manager&#45;&gt;sales_agent3 -->\n",
       "<g id=\"edge6\" class=\"edge\">\n",
       "<title>Sales Manager&#45;&gt;sales_agent3</title>\n",
       "<path fill=\"none\" stroke=\"black\" stroke-width=\"1.5\" stroke-dasharray=\"1,5\" d=\"M264.66,-162.42C288.52,-147.78 318.27,-130.26 341.44,-117.27\"/>\n",
       "<polygon fill=\"black\" stroke=\"black\" stroke-width=\"1.5\" points=\"343.25,-120.27 350.29,-112.36 339.85,-114.15 343.25,-120.27\"/>\n",
       "</g>\n",
       "<!-- Email Manager -->\n",
       "<g id=\"node7\" class=\"node\">\n",
       "<title>Email Manager</title>\n",
       "<path fill=\"none\" stroke=\"black\" d=\"M562.09,-126.53C562.09,-126.53 477.09,-126.53 477.09,-126.53 471.09,-126.53 465.09,-120.53 465.09,-114.53 465.09,-114.53 465.09,-80.53 465.09,-80.53 465.09,-74.53 471.09,-68.53 477.09,-68.53 477.09,-68.53 562.09,-68.53 562.09,-68.53 568.09,-68.53 574.09,-74.53 574.09,-80.53 574.09,-80.53 574.09,-114.53 574.09,-114.53 574.09,-120.53 568.09,-126.53 562.09,-126.53\"/>\n",
       "<text text-anchor=\"middle\" x=\"519.59\" y=\"-93.83\" font-family=\"Arial\" font-size=\"14.00\">Email Manager</text>\n",
       "</g>\n",
       "<!-- Sales Manager&#45;&gt;Email Manager -->\n",
       "<g id=\"edge8\" class=\"edge\">\n",
       "<title>Sales Manager&#45;&gt;Email Manager</title>\n",
       "<path fill=\"none\" stroke=\"black\" stroke-width=\"1.5\" d=\"M277.98,-178.04C323.43,-167.06 389.95,-149.7 455.2,-126.86\"/>\n",
       "<polygon fill=\"black\" stroke=\"black\" stroke-width=\"1.5\" points=\"456.56,-130.09 464.81,-123.45 454.22,-123.5 456.56,-130.09\"/>\n",
       "</g>\n",
       "<!-- sales_agent1&#45;&gt;Sales Manager -->\n",
       "<g id=\"edge3\" class=\"edge\">\n",
       "<title>sales_agent1&#45;&gt;Sales Manager</title>\n",
       "<path fill=\"none\" stroke=\"black\" stroke-width=\"1.5\" stroke-dasharray=\"1,5\" d=\"M96.88,-112.36C118.37,-124.17 148.31,-141.63 173.73,-157.06\"/>\n",
       "<polygon fill=\"black\" stroke=\"black\" stroke-width=\"1.5\" points=\"172.16,-160.2 182.52,-162.42 175.8,-154.23 172.16,-160.2\"/>\n",
       "</g>\n",
       "<!-- sales_agent2&#45;&gt;Sales Manager -->\n",
       "<g id=\"edge5\" class=\"edge\">\n",
       "<title>sales_agent2&#45;&gt;Sales Manager</title>\n",
       "<path fill=\"none\" stroke=\"black\" stroke-width=\"1.5\" stroke-dasharray=\"1,5\" d=\"M228.78,-113.9C230.07,-124.42 230.56,-138.85 230.25,-152.36\"/>\n",
       "<polygon fill=\"black\" stroke=\"black\" stroke-width=\"1.5\" points=\"226.75,-152.3 229.86,-162.42 233.75,-152.57 226.75,-152.3\"/>\n",
       "</g>\n",
       "<!-- sales_agent3&#45;&gt;Sales Manager -->\n",
       "<g id=\"edge7\" class=\"edge\">\n",
       "<title>sales_agent3&#45;&gt;Sales Manager</title>\n",
       "<path fill=\"none\" stroke=\"black\" stroke-width=\"1.5\" stroke-dasharray=\"1,5\" d=\"M359.09,-113.12C340.62,-124.99 312.11,-142.19 285.97,-157.37\"/>\n",
       "<polygon fill=\"black\" stroke=\"black\" stroke-width=\"1.5\" points=\"284.12,-154.39 277.21,-162.42 287.62,-160.45 284.12,-154.39\"/>\n",
       "</g>\n",
       "<!-- Email Manager&#45;&gt;__end__ -->\n",
       "<g id=\"edge15\" class=\"edge\">\n",
       "<title>Email Manager&#45;&gt;__end__</title>\n",
       "<path fill=\"none\" stroke=\"black\" stroke-width=\"1.5\" d=\"M464.89,-71.36C462.11,-70.35 459.33,-69.4 456.59,-68.53 378.41,-43.72 355.51,-50.97 275.59,-32.53 271.76,-31.64 267.8,-30.69 263.83,-29.7\"/>\n",
       "<polygon fill=\"black\" stroke=\"black\" stroke-width=\"1.5\" points=\"264.57,-26.28 254.01,-27.21 262.85,-33.06 264.57,-26.28\"/>\n",
       "</g>\n",
       "<!-- subject_writer -->\n",
       "<g id=\"node8\" class=\"node\">\n",
       "<title>subject_writer</title>\n",
       "<ellipse fill=\"lightgreen\" stroke=\"black\" cx=\"355.59\" cy=\"-16.26\" rx=\"70.92\" ry=\"16.03\"/>\n",
       "<text text-anchor=\"middle\" x=\"355.59\" y=\"-12.56\" font-family=\"Arial\" font-size=\"14.00\">subject_writer</text>\n",
       "</g>\n",
       "<!-- Email Manager&#45;&gt;subject_writer -->\n",
       "<g id=\"edge9\" class=\"edge\">\n",
       "<title>Email Manager&#45;&gt;subject_writer</title>\n",
       "<path fill=\"none\" stroke=\"black\" stroke-width=\"1.5\" stroke-dasharray=\"1,5\" d=\"M465.05,-73.17C439.93,-61.43 410.97,-47.37 389.09,-36.29\"/>\n",
       "<polygon fill=\"black\" stroke=\"black\" stroke-width=\"1.5\" points=\"390.68,-33.17 380.18,-31.74 387.5,-39.4 390.68,-33.17\"/>\n",
       "</g>\n",
       "<!-- html_converter -->\n",
       "<g id=\"node9\" class=\"node\">\n",
       "<title>html_converter</title>\n",
       "<ellipse fill=\"lightgreen\" stroke=\"black\" cx=\"519.59\" cy=\"-16.26\" rx=\"75.82\" ry=\"16.03\"/>\n",
       "<text text-anchor=\"middle\" x=\"519.59\" y=\"-12.56\" font-family=\"Arial\" font-size=\"14.00\">html_converter</text>\n",
       "</g>\n",
       "<!-- Email Manager&#45;&gt;html_converter -->\n",
       "<g id=\"edge11\" class=\"edge\">\n",
       "<title>Email Manager&#45;&gt;html_converter</title>\n",
       "<path fill=\"none\" stroke=\"black\" stroke-width=\"1.5\" stroke-dasharray=\"1,5\" d=\"M513.1,-68.36C512.71,-60.07 512.76,-51.04 513.23,-42.92\"/>\n",
       "<polygon fill=\"black\" stroke=\"black\" stroke-width=\"1.5\" points=\"516.72,-43.15 514.09,-32.89 509.75,-42.55 516.72,-43.15\"/>\n",
       "</g>\n",
       "<!-- send_html_email -->\n",
       "<g id=\"node10\" class=\"node\">\n",
       "<title>send_html_email</title>\n",
       "<ellipse fill=\"lightgreen\" stroke=\"black\" cx=\"698.59\" cy=\"-16.26\" rx=\"84.71\" ry=\"16.03\"/>\n",
       "<text text-anchor=\"middle\" x=\"698.59\" y=\"-12.56\" font-family=\"Arial\" font-size=\"14.00\">send_html_email</text>\n",
       "</g>\n",
       "<!-- Email Manager&#45;&gt;send_html_email -->\n",
       "<g id=\"edge13\" class=\"edge\">\n",
       "<title>Email Manager&#45;&gt;send_html_email</title>\n",
       "<path fill=\"none\" stroke=\"black\" stroke-width=\"1.5\" stroke-dasharray=\"1,5\" d=\"M574.25,-69.47C599.42,-58.07 628.9,-45.12 652.88,-34.97\"/>\n",
       "<polygon fill=\"black\" stroke=\"black\" stroke-width=\"1.5\" points=\"654.26,-38.18 662.12,-31.08 651.54,-31.73 654.26,-38.18\"/>\n",
       "</g>\n",
       "<!-- subject_writer&#45;&gt;Email Manager -->\n",
       "<g id=\"edge10\" class=\"edge\">\n",
       "<title>subject_writer&#45;&gt;Email Manager</title>\n",
       "<path fill=\"none\" stroke=\"black\" stroke-width=\"1.5\" stroke-dasharray=\"1,5\" d=\"M388.58,-30.69C408.65,-39.77 434.82,-52.19 458.51,-63.79\"/>\n",
       "<polygon fill=\"black\" stroke=\"black\" stroke-width=\"1.5\" points=\"457.28,-67.08 467.8,-68.36 460.37,-60.8 457.28,-67.08\"/>\n",
       "</g>\n",
       "<!-- html_converter&#45;&gt;Email Manager -->\n",
       "<g id=\"edge12\" class=\"edge\">\n",
       "<title>html_converter&#45;&gt;Email Manager</title>\n",
       "<path fill=\"none\" stroke=\"black\" stroke-width=\"1.5\" stroke-dasharray=\"1,5\" d=\"M525.09,-32.89C525.97,-40.23 526.38,-49.33 526.34,-58.34\"/>\n",
       "<polygon fill=\"black\" stroke=\"black\" stroke-width=\"1.5\" points=\"522.84,-58.27 526.08,-68.36 529.83,-58.45 522.84,-58.27\"/>\n",
       "</g>\n",
       "<!-- send_html_email&#45;&gt;Email Manager -->\n",
       "<g id=\"edge14\" class=\"edge\">\n",
       "<title>send_html_email&#45;&gt;Email Manager</title>\n",
       "<path fill=\"none\" stroke=\"black\" stroke-width=\"1.5\" stroke-dasharray=\"1,5\" d=\"M671.3,-31.72C647.93,-42.7 613.5,-58.09 583.32,-71.12\"/>\n",
       "<polygon fill=\"black\" stroke=\"black\" stroke-width=\"1.5\" points=\"581.91,-67.91 574.1,-75.08 584.67,-74.35 581.91,-67.91\"/>\n",
       "</g>\n",
       "</g>\n",
       "</svg>\n"
      ],
      "text/plain": [
       "<graphviz.sources.Source at 0x785282553050>"
      ]
     },
     "execution_count": 21,
     "metadata": {},
     "output_type": "execute_result"
    }
   ],
   "source": [
    "from agents.extensions.visualization import draw_graph\n",
    "draw_graph(careful_sales_manager)"
   ]
  },
  {
   "cell_type": "markdown",
   "metadata": {},
   "source": [
    "<table style=\"margin: 0; text-align: left; width:100%\">\n",
    "    <tr>\n",
    "        <td style=\"width: 150px; height: 150px; vertical-align: middle;\">\n",
    "            <img src=\"../assets/exercise.png\" width=\"150\" height=\"150\" style=\"display: block;\" />\n",
    "        </td>\n",
    "        <td>\n",
    "            <h2 style=\"color:#ff7800;\">Exercise</h2>\n",
    "            <span style=\"color:#ff7800;\">• Try different models<br/>• Add more input and output guardrails<br/>• Use structured outputs for the email generation\n",
    "            </span>\n",
    "        </td>\n",
    "    </tr>\n",
    "</table>"
   ]
  },
  {
   "cell_type": "markdown",
   "metadata": {},
   "source": []
  }
 ],
 "metadata": {
  "kernelspec": {
   "display_name": ".venv",
   "language": "python",
   "name": "python3"
  },
  "language_info": {
   "codemirror_mode": {
    "name": "ipython",
    "version": 3
   },
   "file_extension": ".py",
   "mimetype": "text/x-python",
   "name": "python",
   "nbconvert_exporter": "python",
   "pygments_lexer": "ipython3",
   "version": "3.12.11"
  }
 },
 "nbformat": 4,
 "nbformat_minor": 2
}
